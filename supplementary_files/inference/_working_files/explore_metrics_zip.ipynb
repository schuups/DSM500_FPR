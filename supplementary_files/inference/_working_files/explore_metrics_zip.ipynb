{
 "cells": [
  {
   "cell_type": "code",
   "execution_count": 1,
   "metadata": {},
   "outputs": [
    {
     "data": {
      "text/plain": [
       "{'hydra': {'job': {'chdir': False, 'name': 'Inference'}, 'run': {'dir': './outputs/${hydra:job.name}'}}, 'seed': 42, 'models': [{'name': 'gc-baseline', 'type': 'gc-baseline', 'code_path': '/iopsstor/scratch/cscs/stefschu/DSM500_FPR/modulus-baseline', 'config_path': '/iopsstor/scratch/cscs/stefschu/DSM500_FPR/modulus-baseline/conf/config.yaml', 'weights': ['/iopsstor/scratch/cscs/stefschu/DSM500_FPR/modulus-baseline/runs/RUN01/SEED21/checkpoint/model.iter003750.pth', '/iopsstor/scratch/cscs/stefschu/DSM500_FPR/modulus-baseline/runs/RUN01/SEED42/checkpoint/model.iter003750.pth', '/iopsstor/scratch/cscs/stefschu/DSM500_FPR/modulus-baseline/runs/RUN01/SEED84/checkpoint/model.iter003750.pth']}], 'data': {'metadata': '/iopsstor/scratch/cscs/stefschu/DSM500_FPR/data/FCN_ERA5_data_v0/metadata.yaml', 'file_path': '/iopsstor/scratch/cscs/stefschu/DSM500_FPR/data/FCN_ERA5_data_v0/out_of_sample/2018.h5', 'initial_conditions_idx': [0, 55, 110, 165, 220, 275, 330, 385, 440, 495, 550, 605, 660, 715, 770, 825, 880, 935, 990, 1045, 1100, 1155, 1210, 1265, 1320, 1375, 1430]}, 'metrics': {'slices': {'variables': [{'name': 'global'}, {'name': 'z500'}, {'name': 't850'}, {'name': 't2m'}, {'name': 'msl'}, {'name': '10u'}, {'name': '10v'}, {'name': 'u850'}, {'name': 'v850'}], 'regions': [{'name': 'global'}, {'name': 'n.hem', 'latitude_range': [20, 90]}, {'name': 'tropics', 'latitude_range': [-20, 20]}, {'name': 's.hem', 'latitude_range': [-90, -20]}, {'name': 'europe', 'latitude_range': [35, 70], 'longitude_range': [-12.5, 42.5]}, {'name': 'n.amer', 'latitude_range': [25, 60], 'longitude_range': [-120, -75]}, {'name': 'e.asia', 'latitude_range': [25, 60], 'longitude_range': [102.5, 150]}, {'name': 'austnz', 'latitude_range': [-45, -12.5], 'longitude_range': [120, 175]}]}}, 'inference': {'rollout_steps': 28}}"
      ]
     },
     "execution_count": 1,
     "metadata": {},
     "output_type": "execute_result"
    }
   ],
   "source": [
    "from omegaconf import OmegaConf\n",
    "\n",
    "cfg = OmegaConf.load(\"/iopsstor/scratch/cscs/stefschu/DSM500_FPR/supplementary_files/inference/conf/config.yaml\")\n",
    "\n",
    "cfg"
   ]
  },
  {
   "cell_type": "code",
   "execution_count": 2,
   "metadata": {},
   "outputs": [
    {
     "data": {
      "text/plain": [
       "[{'name': 'global'}, {'name': 'z500'}, {'name': 't850'}, {'name': 't2m'}, {'name': 'msl'}, {'name': '10u'}, {'name': '10v'}, {'name': 'u850'}, {'name': 'v850'}]"
      ]
     },
     "execution_count": 2,
     "metadata": {},
     "output_type": "execute_result"
    }
   ],
   "source": [
    "cfg.metrics.slices.variables"
   ]
  },
  {
   "cell_type": "code",
   "execution_count": 3,
   "metadata": {},
   "outputs": [
    {
     "data": {
      "text/plain": [
       "[{'name': 'global'}, {'name': 'n.hem', 'latitude_range': [20, 90]}, {'name': 'tropics', 'latitude_range': [-20, 20]}, {'name': 's.hem', 'latitude_range': [-90, -20]}, {'name': 'europe', 'latitude_range': [35, 70], 'longitude_range': [-12.5, 42.5]}, {'name': 'n.amer', 'latitude_range': [25, 60], 'longitude_range': [-120, -75]}, {'name': 'e.asia', 'latitude_range': [25, 60], 'longitude_range': [102.5, 150]}, {'name': 'austnz', 'latitude_range': [-45, -12.5], 'longitude_range': [120, 175]}]"
      ]
     },
     "execution_count": 3,
     "metadata": {},
     "output_type": "execute_result"
    }
   ],
   "source": [
    "cfg.metrics.slices.regions"
   ]
  },
  {
   "cell_type": "code",
   "execution_count": 4,
   "metadata": {},
   "outputs": [
    {
     "data": {
      "text/plain": [
       "[({'name': 'global'}, {'name': 'global'}),\n",
       " ({'name': 'global'}, {'name': 'n.hem', 'latitude_range': [20, 90]}),\n",
       " ({'name': 'global'}, {'name': 'tropics', 'latitude_range': [-20, 20]}),\n",
       " ({'name': 'global'}, {'name': 's.hem', 'latitude_range': [-90, -20]}),\n",
       " ({'name': 'global'},\n",
       "  {'name': 'europe', 'latitude_range': [35, 70], 'longitude_range': [-12.5, 42.5]}),\n",
       " ({'name': 'global'},\n",
       "  {'name': 'n.amer', 'latitude_range': [25, 60], 'longitude_range': [-120, -75]}),\n",
       " ({'name': 'global'},\n",
       "  {'name': 'e.asia', 'latitude_range': [25, 60], 'longitude_range': [102.5, 150]}),\n",
       " ({'name': 'global'},\n",
       "  {'name': 'austnz', 'latitude_range': [-45, -12.5], 'longitude_range': [120, 175]}),\n",
       " ({'name': 'z500'}, {'name': 'global'}),\n",
       " ({'name': 'z500'}, {'name': 'n.hem', 'latitude_range': [20, 90]}),\n",
       " ({'name': 'z500'}, {'name': 'tropics', 'latitude_range': [-20, 20]}),\n",
       " ({'name': 'z500'}, {'name': 's.hem', 'latitude_range': [-90, -20]}),\n",
       " ({'name': 'z500'},\n",
       "  {'name': 'europe', 'latitude_range': [35, 70], 'longitude_range': [-12.5, 42.5]}),\n",
       " ({'name': 'z500'},\n",
       "  {'name': 'n.amer', 'latitude_range': [25, 60], 'longitude_range': [-120, -75]}),\n",
       " ({'name': 'z500'},\n",
       "  {'name': 'e.asia', 'latitude_range': [25, 60], 'longitude_range': [102.5, 150]}),\n",
       " ({'name': 'z500'},\n",
       "  {'name': 'austnz', 'latitude_range': [-45, -12.5], 'longitude_range': [120, 175]}),\n",
       " ({'name': 't850'}, {'name': 'global'}),\n",
       " ({'name': 't850'}, {'name': 'n.hem', 'latitude_range': [20, 90]}),\n",
       " ({'name': 't850'}, {'name': 'tropics', 'latitude_range': [-20, 20]}),\n",
       " ({'name': 't850'}, {'name': 's.hem', 'latitude_range': [-90, -20]}),\n",
       " ({'name': 't850'},\n",
       "  {'name': 'europe', 'latitude_range': [35, 70], 'longitude_range': [-12.5, 42.5]}),\n",
       " ({'name': 't850'},\n",
       "  {'name': 'n.amer', 'latitude_range': [25, 60], 'longitude_range': [-120, -75]}),\n",
       " ({'name': 't850'},\n",
       "  {'name': 'e.asia', 'latitude_range': [25, 60], 'longitude_range': [102.5, 150]}),\n",
       " ({'name': 't850'},\n",
       "  {'name': 'austnz', 'latitude_range': [-45, -12.5], 'longitude_range': [120, 175]}),\n",
       " ({'name': 't2m'}, {'name': 'global'}),\n",
       " ({'name': 't2m'}, {'name': 'n.hem', 'latitude_range': [20, 90]}),\n",
       " ({'name': 't2m'}, {'name': 'tropics', 'latitude_range': [-20, 20]}),\n",
       " ({'name': 't2m'}, {'name': 's.hem', 'latitude_range': [-90, -20]}),\n",
       " ({'name': 't2m'},\n",
       "  {'name': 'europe', 'latitude_range': [35, 70], 'longitude_range': [-12.5, 42.5]}),\n",
       " ({'name': 't2m'},\n",
       "  {'name': 'n.amer', 'latitude_range': [25, 60], 'longitude_range': [-120, -75]}),\n",
       " ({'name': 't2m'},\n",
       "  {'name': 'e.asia', 'latitude_range': [25, 60], 'longitude_range': [102.5, 150]}),\n",
       " ({'name': 't2m'},\n",
       "  {'name': 'austnz', 'latitude_range': [-45, -12.5], 'longitude_range': [120, 175]}),\n",
       " ({'name': 'msl'}, {'name': 'global'}),\n",
       " ({'name': 'msl'}, {'name': 'n.hem', 'latitude_range': [20, 90]}),\n",
       " ({'name': 'msl'}, {'name': 'tropics', 'latitude_range': [-20, 20]}),\n",
       " ({'name': 'msl'}, {'name': 's.hem', 'latitude_range': [-90, -20]}),\n",
       " ({'name': 'msl'},\n",
       "  {'name': 'europe', 'latitude_range': [35, 70], 'longitude_range': [-12.5, 42.5]}),\n",
       " ({'name': 'msl'},\n",
       "  {'name': 'n.amer', 'latitude_range': [25, 60], 'longitude_range': [-120, -75]}),\n",
       " ({'name': 'msl'},\n",
       "  {'name': 'e.asia', 'latitude_range': [25, 60], 'longitude_range': [102.5, 150]}),\n",
       " ({'name': 'msl'},\n",
       "  {'name': 'austnz', 'latitude_range': [-45, -12.5], 'longitude_range': [120, 175]}),\n",
       " ({'name': '10u'}, {'name': 'global'}),\n",
       " ({'name': '10u'}, {'name': 'n.hem', 'latitude_range': [20, 90]}),\n",
       " ({'name': '10u'}, {'name': 'tropics', 'latitude_range': [-20, 20]}),\n",
       " ({'name': '10u'}, {'name': 's.hem', 'latitude_range': [-90, -20]}),\n",
       " ({'name': '10u'},\n",
       "  {'name': 'europe', 'latitude_range': [35, 70], 'longitude_range': [-12.5, 42.5]}),\n",
       " ({'name': '10u'},\n",
       "  {'name': 'n.amer', 'latitude_range': [25, 60], 'longitude_range': [-120, -75]}),\n",
       " ({'name': '10u'},\n",
       "  {'name': 'e.asia', 'latitude_range': [25, 60], 'longitude_range': [102.5, 150]}),\n",
       " ({'name': '10u'},\n",
       "  {'name': 'austnz', 'latitude_range': [-45, -12.5], 'longitude_range': [120, 175]}),\n",
       " ({'name': '10v'}, {'name': 'global'}),\n",
       " ({'name': '10v'}, {'name': 'n.hem', 'latitude_range': [20, 90]}),\n",
       " ({'name': '10v'}, {'name': 'tropics', 'latitude_range': [-20, 20]}),\n",
       " ({'name': '10v'}, {'name': 's.hem', 'latitude_range': [-90, -20]}),\n",
       " ({'name': '10v'},\n",
       "  {'name': 'europe', 'latitude_range': [35, 70], 'longitude_range': [-12.5, 42.5]}),\n",
       " ({'name': '10v'},\n",
       "  {'name': 'n.amer', 'latitude_range': [25, 60], 'longitude_range': [-120, -75]}),\n",
       " ({'name': '10v'},\n",
       "  {'name': 'e.asia', 'latitude_range': [25, 60], 'longitude_range': [102.5, 150]}),\n",
       " ({'name': '10v'},\n",
       "  {'name': 'austnz', 'latitude_range': [-45, -12.5], 'longitude_range': [120, 175]}),\n",
       " ({'name': 'u850'}, {'name': 'global'}),\n",
       " ({'name': 'u850'}, {'name': 'n.hem', 'latitude_range': [20, 90]}),\n",
       " ({'name': 'u850'}, {'name': 'tropics', 'latitude_range': [-20, 20]}),\n",
       " ({'name': 'u850'}, {'name': 's.hem', 'latitude_range': [-90, -20]}),\n",
       " ({'name': 'u850'},\n",
       "  {'name': 'europe', 'latitude_range': [35, 70], 'longitude_range': [-12.5, 42.5]}),\n",
       " ({'name': 'u850'},\n",
       "  {'name': 'n.amer', 'latitude_range': [25, 60], 'longitude_range': [-120, -75]}),\n",
       " ({'name': 'u850'},\n",
       "  {'name': 'e.asia', 'latitude_range': [25, 60], 'longitude_range': [102.5, 150]}),\n",
       " ({'name': 'u850'},\n",
       "  {'name': 'austnz', 'latitude_range': [-45, -12.5], 'longitude_range': [120, 175]}),\n",
       " ({'name': 'v850'}, {'name': 'global'}),\n",
       " ({'name': 'v850'}, {'name': 'n.hem', 'latitude_range': [20, 90]}),\n",
       " ({'name': 'v850'}, {'name': 'tropics', 'latitude_range': [-20, 20]}),\n",
       " ({'name': 'v850'}, {'name': 's.hem', 'latitude_range': [-90, -20]}),\n",
       " ({'name': 'v850'},\n",
       "  {'name': 'europe', 'latitude_range': [35, 70], 'longitude_range': [-12.5, 42.5]}),\n",
       " ({'name': 'v850'},\n",
       "  {'name': 'n.amer', 'latitude_range': [25, 60], 'longitude_range': [-120, -75]}),\n",
       " ({'name': 'v850'},\n",
       "  {'name': 'e.asia', 'latitude_range': [25, 60], 'longitude_range': [102.5, 150]}),\n",
       " ({'name': 'v850'},\n",
       "  {'name': 'austnz', 'latitude_range': [-45, -12.5], 'longitude_range': [120, 175]})]"
      ]
     },
     "execution_count": 4,
     "metadata": {},
     "output_type": "execute_result"
    }
   ],
   "source": [
    "from itertools import product\n",
    "\n",
    "list(product(cfg.metrics.slices.variables, cfg.metrics.slices.regions))"
   ]
  },
  {
   "cell_type": "code",
   "execution_count": 4,
   "metadata": {},
   "outputs": [
    {
     "data": {
      "text/plain": [
       "{'10u': 0,\n",
       " '10v': 1,\n",
       " 't2d': 2,\n",
       " 'sp': 3,\n",
       " 'msl': 4,\n",
       " 't_850': 5,\n",
       " 'u_1000': 6,\n",
       " 'v_1000': 7,\n",
       " 'z_1000': 8,\n",
       " 'u_850': 9,\n",
       " 'v_850': 10,\n",
       " 'z_850': 11,\n",
       " 'u_500': 12,\n",
       " 'v_500': 13,\n",
       " 'z_500': 14,\n",
       " 't_500': 15,\n",
       " 'z_50': 16,\n",
       " 'r_500': 17,\n",
       " 'r_850': 18,\n",
       " 'tcwv': 19,\n",
       " 'sst': 20}"
      ]
     },
     "execution_count": 4,
     "metadata": {},
     "output_type": "execute_result"
    }
   ],
   "source": [
    "import yaml\n",
    "\n",
    "with open(\"/iopsstor/scratch/cscs/stefschu/DSM500_FPR/data/FCN_ERA5_data_v0/metadata.yaml\", \"r\") as f:\n",
    "    metadata = yaml.safe_load(f)\n",
    "        \n",
    "\n",
    "channel_name_to_index = {v[\"key\"]: k for k, v in enumerate(metadata)}\n",
    "channel_name_to_index"
   ]
  },
  {
   "cell_type": "code",
   "execution_count": 8,
   "metadata": {},
   "outputs": [
    {
     "name": "stdout",
     "output_type": "stream",
     "text": [
      "Index for longitude 0°: 0\n"
     ]
    }
   ],
   "source": [
    "import numpy as np\n",
    "\n",
    "# Parameters\n",
    "n_longitudes = 1440\n",
    "target_lon_deg = 0  # degrees east\n",
    "\n",
    "# Compute the longitude grid\n",
    "lon_grid = np.linspace(0, 360, n_longitudes, endpoint=False)\n",
    "\n",
    "# Find the closest index\n",
    "index = int(round(target_lon_deg / 360 * n_longitudes))\n",
    "print(f\"Index for longitude {target_lon_deg}°: {index}\")\n"
   ]
  }
 ],
 "metadata": {
  "kernelspec": {
   "display_name": "venv_arm64",
   "language": "python",
   "name": "venv_arm64"
  },
  "language_info": {
   "codemirror_mode": {
    "name": "ipython",
    "version": 3
   },
   "file_extension": ".py",
   "mimetype": "text/x-python",
   "name": "python",
   "nbconvert_exporter": "python",
   "pygments_lexer": "ipython3",
   "version": "3.10.12"
  }
 },
 "nbformat": 4,
 "nbformat_minor": 2
}
