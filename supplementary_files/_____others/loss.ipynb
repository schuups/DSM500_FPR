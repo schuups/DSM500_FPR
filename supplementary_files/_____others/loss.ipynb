{
 "cells": [
  {
   "cell_type": "code",
   "execution_count": 1,
   "metadata": {},
   "outputs": [
    {
     "name": "stderr",
     "output_type": "stream",
     "text": [
      "/iopsstor/scratch/cscs/stefschu/DSM500_FPR/modulus-baseline/modulus/utils/distributed_manager.py:39: UserWarning: DistributedManager: running in single process mode!\n",
      "  warn(\"DistributedManager: running in single process mode!\")\n"
     ]
    }
   ],
   "source": [
    "%load_ext autoreload\n",
    "%autoreload 2\n",
    "\n",
    "import sys\n",
    "sys.path.insert(0, '/iopsstor/scratch/cscs/stefschu/DSM500_FPR/modulus-baseline')\n",
    "\n",
    "from modulus.utils.distributed_manager import DistributedManager as DM\n",
    "from modulus.utils.caching import Cache\n",
    "from omegaconf import OmegaConf\n",
    "from modulus.models.graph_cast_net import GraphCastNet\n",
    "\n",
    "cfg = OmegaConf.load('/iopsstor/scratch/cscs/stefschu/DSM500_FPR/modulus-baseline/conf/config.yaml')\n",
    "\n",
    "DM.destroy()\n",
    "DM.initialize()\n",
    "Cache.initialize(dir=cfg.cache.dir)"
   ]
  },
  {
   "cell_type": "code",
   "execution_count": 2,
   "metadata": {},
   "outputs": [
    {
     "name": "stdout",
     "output_type": "stream",
     "text": [
      "invar.shape=torch.Size([31, 721, 1440]) forecast.shape=torch.Size([21, 721, 1440]) outvar.shape=torch.Size([21, 721, 1440])\n"
     ]
    },
    {
     "data": {
      "text/plain": [
       "tensor(2.0797, device='cuda:0', grad_fn=<MeanBackward0>)"
      ]
     },
     "execution_count": 2,
     "metadata": {},
     "output_type": "execute_result"
    }
   ],
   "source": [
    "from modulus.models.utils.loss import GraphCastLossFunction\n",
    "from modulus.datapipes.era5_hdf5 import ERA5HDF5Datapipe\n",
    "\n",
    "cfg.toggles.data.include_sst_channel = True\n",
    "cfg.toggles.loss.use_original_variable_weights = False\n",
    "cfg.toggles.loss.fix_inverse_variance_data = False\n",
    "\n",
    "\n",
    "model = GraphCastNet(cfg)\n",
    "\n",
    "datapipe = ERA5HDF5Datapipe(\n",
    "    cfg=cfg,\n",
    "    dataset_folder='train',\n",
    "    num_output_steps=1,\n",
    "\n",
    "    latitudes=model.latitudes,\n",
    "    longitudes=model.longitudes,\n",
    "    map_grid_to_latlon=model.map_grid_to_latlon,\n",
    "    dtype=model.dtype(),\n",
    "\n",
    "    iterator={\n",
    "        \"shuffle\": True,\n",
    "        \"shuffle_seed\": 0,\n",
    "        \"initial_epoch_idx\": 0,\n",
    "        \"initial_sample_idx\": 0\n",
    "    }\n",
    ")\n",
    "\n",
    "sample = next(iter(datapipe))\n",
    "data = sample[\"data\"]\n",
    "\n",
    "invar, outvar = data[0], data[1]\n",
    "\n",
    "criteria = GraphCastLossFunction(\n",
    "    cfg=cfg,\n",
    "    area=model.area,\n",
    "    channels_metadata=model.metadata\n",
    ")\n",
    "\n",
    "forecast = model(invar)\n",
    "\n",
    "outvar = outvar[:forecast.shape[0]]\n",
    "print(f\"{invar.shape=} {forecast.shape=} {outvar.shape=}\")\n",
    "\n",
    "criteria(outvar, forecast)"
   ]
  },
  {
   "cell_type": "code",
   "execution_count": 7,
   "metadata": {},
   "outputs": [
    {
     "data": {
      "text/plain": [
       "(torch.float32, torch.bfloat16)"
      ]
     },
     "execution_count": 7,
     "metadata": {},
     "output_type": "execute_result"
    }
   ],
   "source": [
    "criteria.inverse_variance_weights_old.dtype, criteria.inverse_variance_weights_new.dtype"
   ]
  },
  {
   "cell_type": "code",
   "execution_count": 3,
   "metadata": {},
   "outputs": [
    {
     "name": "stdout",
     "output_type": "stream",
     "text": [
      "include_sst_channel=True use_original_variable_weights=True fix_inverse_variance_data=True\n",
      "loss: loss=tensor(0.0091, device='cuda:0')\n",
      "include_sst_channel=True use_original_variable_weights=True fix_inverse_variance_data=False\n",
      "loss: loss=tensor(0.0512, device='cuda:0')\n",
      "include_sst_channel=True use_original_variable_weights=False fix_inverse_variance_data=True\n",
      "loss: loss=tensor(0.0080, device='cuda:0', dtype=torch.bfloat16)\n",
      "include_sst_channel=True use_original_variable_weights=False fix_inverse_variance_data=False\n",
      "loss: loss=tensor(0.0217, device='cuda:0')\n",
      "include_sst_channel=False use_original_variable_weights=True fix_inverse_variance_data=True\n",
      "loss: loss=tensor(0.0029, device='cuda:0')\n",
      "include_sst_channel=False use_original_variable_weights=True fix_inverse_variance_data=False\n",
      "loss: loss=tensor(0.0029, device='cuda:0')\n",
      "include_sst_channel=False use_original_variable_weights=False fix_inverse_variance_data=True\n",
      "loss: loss=tensor(0.0026, device='cuda:0')\n",
      "include_sst_channel=False use_original_variable_weights=False fix_inverse_variance_data=False\n",
      "loss: loss=tensor(0.0026, device='cuda:0')\n"
     ]
    }
   ],
   "source": [
    "datapipe = ERA5HDF5Datapipe(\n",
    "    cfg=cfg,\n",
    "    dataset_folder='train',\n",
    "    num_output_steps=1,\n",
    "\n",
    "    latitudes=model.latitudes,\n",
    "    longitudes=model.longitudes,\n",
    "    map_grid_to_latlon=model.map_grid_to_latlon,\n",
    "    dtype=model.dtype(),\n",
    "\n",
    "    iterator={\n",
    "        \"shuffle\": True,\n",
    "        \"shuffle_seed\": 0,\n",
    "        \"initial_epoch_idx\": 0,\n",
    "        \"initial_sample_idx\": 0\n",
    "    }\n",
    ")\n",
    "\n",
    "sample = next(iter(datapipe))\n",
    "data = sample[\"data\"]\n",
    "\n",
    "for include_sst_channel in [True, False]:\n",
    "    for use_original_variable_weights in [True, False]:\n",
    "        for fix_inverse_variance_data in [True, False]:\n",
    "            cfg.toggles.data.include_sst_channel = include_sst_channel\n",
    "            cfg.toggles.loss.use_original_variable_weights = use_original_variable_weights\n",
    "            cfg.toggles.loss.fix_inverse_variance_data = fix_inverse_variance_data\n",
    "\n",
    "            model = GraphCastNet(cfg)\n",
    "\n",
    "            if cfg.toggles.data.include_sst_channel:\n",
    "                invar, outvar = data[0][:21], data[1][:21]\n",
    "            else:\n",
    "                invar, outvar = data[0][:20], data[1][:20]\n",
    "\n",
    "            criteria = GraphCastLossFunction(\n",
    "                cfg=cfg,\n",
    "                area=model.area,\n",
    "                channels_metadata=model.metadata\n",
    "            )\n",
    "\n",
    "            loss = criteria(invar, outvar)\n",
    "\n",
    "            print(f\"{include_sst_channel=} {use_original_variable_weights=} {fix_inverse_variance_data=}\")\n",
    "            print(f\"loss: {loss=}\")"
   ]
  },
  {
   "cell_type": "code",
   "execution_count": 20,
   "metadata": {},
   "outputs": [
    {
     "name": "stdout",
     "output_type": "stream",
     "text": [
      "(1, 21) (1, 21)\n",
      " 0      2.31      2.30\n",
      " 1      2.64      2.61\n",
      " 2      3.27      3.17\n",
      " 3    352.00    254.49\n",
      " 4    364.00    269.10\n",
      " 5      1.88      1.67\n",
      " 6      2.55      2.53\n",
      " 7      2.92      2.89\n",
      " 8    221.00    219.14\n",
      " 9      3.19      3.15\n",
      "10      3.58      3.52\n",
      "11    199.00    195.47\n",
      "12      3.94      3.94\n",
      "13      4.81      4.77\n",
      "14    266.00    235.60\n",
      "15      1.57      1.35\n",
      "16    478.00    236.01\n",
      "17     22.62     22.69\n",
      "18     18.50     18.36\n",
      "19      3.48      3.47\n",
      "20      0.08      3.09\n"
     ]
    }
   ],
   "source": [
    "import numpy as np\n",
    "\n",
    "old = np.load('/iopsstor/scratch/cscs/stefschu/DSM500_FPR/data/FCN_ERA5_data_v0/stats/time_diff_std.npy')\n",
    "new = np.load('/iopsstor/scratch/cscs/stefschu/DSM500_FPR/data/FCN_ERA5_data_v0/stats/time_diff_std_with_sst_fix.npy')\n",
    "\n",
    "print(old.shape, new.shape)\n",
    "old = old.squeeze()\n",
    "new = new.squeeze()\n",
    "\n",
    "for c in range(21):\n",
    "\n",
    "    print(f\"{c:2} {old[c]:9.2f} {new[c]:9.2f}\")"
   ]
  },
  {
   "cell_type": "code",
   "execution_count": 17,
   "metadata": {},
   "outputs": [
    {
     "name": "stdout",
     "output_type": "stream",
     "text": [
      "(1, 21, 1, 1) float64 (1, 21, 1, 1) float32\n",
      " 0     -0.05     -0.05\n",
      " 1      0.19      0.19\n",
      " 2    278.45    278.44\n",
      " 3  96650.39  96650.43\n",
      " 4 100957.49 100957.75\n",
      " 5    274.53    274.52\n",
      " 6     -0.03     -0.03\n",
      " 7      0.19      0.19\n",
      " 8    737.07    737.18\n",
      " 9      1.42      1.42\n",
      "10      0.14      0.14\n",
      "11  13747.95  13747.48\n",
      "12      6.55      6.56\n",
      "13     -0.02     -0.02\n",
      "14  54110.10  54108.05\n",
      "15    252.93    252.92\n",
      "16 199361.21 199359.03\n",
      "17     50.42     50.43\n",
      "18     69.13     69.13\n",
      "19     18.30     18.29\n",
      "20 -10915.60    280.50\n"
     ]
    }
   ],
   "source": [
    "import numpy as np\n",
    "\n",
    "old = np.load('/iopsstor/scratch/cscs/stefschu/DSM500_FPR/data/FCN_ERA5_data_v0/stats/global_means.npy')\n",
    "new = np.load('/iopsstor/scratch/cscs/stefschu/DSM500_FPR/data/FCN_ERA5_data_v0/stats/global_means_with_sst_fix.npy')\n",
    "\n",
    "print(old.shape, old.dtype, new.shape, new.dtype)\n",
    "old = old.squeeze()\n",
    "new = new.squeeze()\n",
    "\n",
    "for c in range(21):\n",
    "\n",
    "    print(f\"{c:2} {old[c]:9.2f} {new[c]:9.2f}\")"
   ]
  },
  {
   "cell_type": "code",
   "execution_count": 16,
   "metadata": {},
   "outputs": [
    {
     "name": "stdout",
     "output_type": "stream",
     "text": [
      "(1, 21, 1, 1) float64 (1, 21, 1, 1) float32\n",
      " 0      5.54      5.54\n",
      " 1      4.76      4.76\n",
      " 2     21.29     21.30\n",
      " 3   9587.90   9588.23\n",
      " 4   1332.69   1332.07\n",
      " 5     15.63     15.63\n",
      " 6      6.14      6.14\n",
      " 7      5.30      5.30\n",
      " 8   1072.83   1072.37\n",
      " 9      8.19      8.18\n",
      "10      6.26      6.26\n",
      "11   1471.42   1471.12\n",
      "12     11.98     11.98\n",
      "13      9.18      9.18\n",
      "14   3357.15   3357.24\n",
      "15     13.07     13.08\n",
      "16   5895.93   5894.05\n",
      "17     33.58     33.58\n",
      "18     26.41     26.42\n",
      "19     16.39     16.39\n",
      "20  15645.77     20.43\n"
     ]
    }
   ],
   "source": [
    "import numpy as np\n",
    "\n",
    "old = np.load('/iopsstor/scratch/cscs/stefschu/DSM500_FPR/data/FCN_ERA5_data_v0/stats/global_stds.npy')\n",
    "new = np.load('/iopsstor/scratch/cscs/stefschu/DSM500_FPR/data/FCN_ERA5_data_v0/stats/global_stds_with_sst_fix.npy')\n",
    "\n",
    "print(old.shape, old.dtype, new.shape, new.dtype)\n",
    "old = old.squeeze()\n",
    "new = new.squeeze()\n",
    "\n",
    "for c in range(21):\n",
    "\n",
    "    print(f\"{c:2} {old[c]:9.2f} {new[c]:9.2f}\")"
   ]
  },
  {
   "cell_type": "code",
   "execution_count": 28,
   "metadata": {},
   "outputs": [
    {
     "data": {
      "text/plain": [
       "514967040"
      ]
     },
     "execution_count": 28,
     "metadata": {},
     "output_type": "execute_result"
    }
   ],
   "source": [
    "import torch\n",
    "\n",
    "torch.zeros((1, 4, 31, 721, 1440)).to(torch.float32).nbytes"
   ]
  }
 ],
 "metadata": {
  "kernelspec": {
   "display_name": "venv_arm64",
   "language": "python",
   "name": "venv_arm64"
  }
 },
 "nbformat": 4,
 "nbformat_minor": 2
}
