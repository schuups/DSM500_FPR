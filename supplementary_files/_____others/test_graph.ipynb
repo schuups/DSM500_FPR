{
 "cells": [
  {
   "cell_type": "code",
   "execution_count": null,
   "metadata": {},
   "outputs": [
    {
     "name": "stderr",
     "output_type": "stream",
     "text": [
      "/iopsstor/scratch/cscs/stefschu/DSM500_FPR/modulus-baseline/modulus/utils/distributed_manager.py:39: UserWarning: DistributedManager: running in single process mode!\n",
      "  warn(\"DistributedManager: running in single process mode!\")\n"
     ]
    },
    {
     "data": {
      "text/plain": [
       "21"
      ]
     },
     "execution_count": 1,
     "metadata": {},
     "output_type": "execute_result"
    }
   ],
   "source": [
    "%load_ext autoreload\n",
    "%autoreload 2\n",
    "\n",
    "import sys\n",
    "sys.path.insert(0, '/iopsstor/scratch/cscs/stefschu/DSM500_FPR/modulus-baseline')\n",
    "\n",
    "from modulus.utils.distributed_manager import DistributedManager as DM\n",
    "from modulus.utils.caching import Cache\n",
    "from omegaconf import OmegaConf\n",
    "from modulus.models.graph_cast_net import GraphCastNet\n",
    "\n",
    "cfg = OmegaConf.load('/iopsstor/scratch/cscs/stefschu/DSM500_FPR/modulus-baseline/conf/config.yaml')\n",
    "\n",
    "DM.destroy()\n",
    "DM.initialize()\n",
    "Cache.initialize(dir=cfg.cache.dir)\n",
    "\n",
    "cfg.toggles.data.include_sst_channel = False\n",
    "model = GraphCastNet(cfg)\n",
    "\n",
    "len(model.metadata)"
   ]
  },
  {
   "cell_type": "code",
   "execution_count": 3,
   "metadata": {},
   "outputs": [],
   "source": [
    "from modulus.datapipes.era5_hdf5 import ERA5HDF5Datapipe\n",
    "\n",
    "datapipe = ERA5HDF5Datapipe(\n",
    "    cfg=cfg,\n",
    "    dataset_folder='train',\n",
    "    num_output_steps=1,\n",
    "\n",
    "    latitudes=model.latitudes,\n",
    "    longitudes=model.longitudes,\n",
    "    map_grid_to_latlon=model.map_grid_to_latlon,\n",
    "    dtype=model.dtype(),\n",
    "\n",
    "    iterator={\n",
    "        \"shuffle\": True,\n",
    "        \"shuffle_seed\": 0,\n",
    "        \"initial_epoch_idx\": 0,\n",
    "        \"initial_sample_idx\": 0\n",
    "    }\n",
    ")"
   ]
  },
  {
   "cell_type": "code",
   "execution_count": 4,
   "metadata": {},
   "outputs": [
    {
     "ename": "AttributeError",
     "evalue": "'ERA5HDF5Datapipe' object has no attribute 'metadata'",
     "output_type": "error",
     "traceback": [
      "\u001b[0;31m---------------------------------------------------------------------------\u001b[0m",
      "\u001b[0;31mAttributeError\u001b[0m                            Traceback (most recent call last)",
      "Cell \u001b[0;32mIn[4], line 1\u001b[0m\n\u001b[0;32m----> 1\u001b[0m \u001b[43mdatapipe\u001b[49m\u001b[38;5;241;43m.\u001b[39;49m\u001b[43mmetadata\u001b[49m\n",
      "\u001b[0;31mAttributeError\u001b[0m: 'ERA5HDF5Datapipe' object has no attribute 'metadata'"
     ]
    }
   ],
   "source": [
    "datapipe.metadata"
   ]
  },
  {
   "cell_type": "code",
   "execution_count": 5,
   "metadata": {},
   "outputs": [
    {
     "name": "stdout",
     "output_type": "stream",
     "text": [
      "21\n"
     ]
    }
   ],
   "source": [
    "import yaml\n",
    "\n",
    "# Open and load the YAML file\n",
    "with open(\"/iopsstor/scratch/cscs/stefschu/DSM500_FPR/data/FCN_ERA5_data_v0/metadata.yaml\", \"r\") as file:\n",
    "    data = yaml.safe_load(file)\n",
    "\n",
    "# Print the loaded data\n",
    "print(len(data))"
   ]
  },
  {
   "cell_type": "code",
   "execution_count": 8,
   "metadata": {},
   "outputs": [
    {
     "ename": "AssertionError",
     "evalue": "DistributedManager is not initialized.",
     "output_type": "error",
     "traceback": [
      "\u001b[0;31m---------------------------------------------------------------------------\u001b[0m",
      "\u001b[0;31mAssertionError\u001b[0m                            Traceback (most recent call last)",
      "Cell \u001b[0;32mIn[8], line 2\u001b[0m\n\u001b[1;32m      1\u001b[0m \u001b[38;5;28;01mfrom\u001b[39;00m \u001b[38;5;21;01mmodulus\u001b[39;00m\u001b[38;5;21;01m.\u001b[39;00m\u001b[38;5;21;01mmodels\u001b[39;00m\u001b[38;5;21;01m.\u001b[39;00m\u001b[38;5;21;01mgraph_cast_net\u001b[39;00m \u001b[38;5;28;01mimport\u001b[39;00m GraphCastNet\n\u001b[0;32m----> 2\u001b[0m model \u001b[38;5;241m=\u001b[39m \u001b[43mGraphCastNet\u001b[49m\u001b[43m(\u001b[49m\u001b[43mcfg\u001b[49m\u001b[43m)\u001b[49m\n\u001b[1;32m      3\u001b[0m model\u001b[38;5;241m.\u001b[39mmetadata\n",
      "File \u001b[0;32m/iopsstor/scratch/cscs/stefschu/DSM500_FPR/modulus-baseline/modulus/models/graph_cast_net.py:30\u001b[0m, in \u001b[0;36mGraphCastNet.__init__\u001b[0;34m(self, cfg)\u001b[0m\n\u001b[1;32m     27\u001b[0m \u001b[38;5;28mself\u001b[39m\u001b[38;5;241m.\u001b[39mcfg \u001b[38;5;241m=\u001b[39m cfg\n\u001b[1;32m     28\u001b[0m \u001b[38;5;28mself\u001b[39m\u001b[38;5;241m.\u001b[39mcheckpoint_enabled \u001b[38;5;241m=\u001b[39m \u001b[38;5;28;01mFalse\u001b[39;00m\n\u001b[0;32m---> 30\u001b[0m \u001b[38;5;28;43mself\u001b[39;49m\u001b[38;5;241;43m.\u001b[39;49m\u001b[43m_build_coordinates_data\u001b[49m\u001b[43m(\u001b[49m\u001b[43m)\u001b[49m\n\u001b[1;32m     31\u001b[0m \u001b[38;5;28mself\u001b[39m\u001b[38;5;241m.\u001b[39m_build_channels_metadata()\n\u001b[1;32m     32\u001b[0m \u001b[38;5;28mself\u001b[39m\u001b[38;5;241m.\u001b[39m_build_graphs()\n",
      "File \u001b[0;32m/iopsstor/scratch/cscs/stefschu/DSM500_FPR/modulus-baseline/modulus/models/graph_cast_net.py:61\u001b[0m, in \u001b[0;36mGraphCastNet._build_coordinates_data\u001b[0;34m(self)\u001b[0m\n\u001b[1;32m     59\u001b[0m area \u001b[38;5;241m=\u001b[39m torch\u001b[38;5;241m.\u001b[39mabs(torch\u001b[38;5;241m.\u001b[39mcos(deg2rad(\u001b[38;5;28mself\u001b[39m\u001b[38;5;241m.\u001b[39mlatitudes)))\n\u001b[1;32m     60\u001b[0m area \u001b[38;5;241m=\u001b[39m area \u001b[38;5;241m/\u001b[39m torch\u001b[38;5;241m.\u001b[39mmean(area)\n\u001b[0;32m---> 61\u001b[0m \u001b[38;5;28mself\u001b[39m\u001b[38;5;241m.\u001b[39marea \u001b[38;5;241m=\u001b[39m area\u001b[38;5;241m.\u001b[39munsqueeze(\u001b[38;5;241m1\u001b[39m)\u001b[38;5;241m.\u001b[39mexpand(\u001b[38;5;241m-\u001b[39m\u001b[38;5;241m1\u001b[39m, _width)\u001b[38;5;241m.\u001b[39mto(dtype\u001b[38;5;241m=\u001b[39m\u001b[38;5;28mself\u001b[39m\u001b[38;5;241m.\u001b[39mdtype(), device\u001b[38;5;241m=\u001b[39m\u001b[43mDM\u001b[49m\u001b[38;5;241;43m.\u001b[39;49m\u001b[43mdevice\u001b[49m\u001b[43m(\u001b[49m\u001b[43m)\u001b[49m)\n",
      "File \u001b[0;32m/iopsstor/scratch/cscs/stefschu/DSM500_FPR/modulus-baseline/modulus/utils/distributed_manager.py:92\u001b[0m, in \u001b[0;36mDistributedManager.device\u001b[0;34m(cls)\u001b[0m\n\u001b[1;32m     90\u001b[0m \u001b[38;5;129m@classmethod\u001b[39m\n\u001b[1;32m     91\u001b[0m \u001b[38;5;28;01mdef\u001b[39;00m \u001b[38;5;21mdevice\u001b[39m(\u001b[38;5;28mcls\u001b[39m):\n\u001b[0;32m---> 92\u001b[0m     \u001b[38;5;28;01massert\u001b[39;00m \u001b[38;5;28mcls\u001b[39m\u001b[38;5;241m.\u001b[39mis_initialized(), \u001b[38;5;124m\"\u001b[39m\u001b[38;5;124mDistributedManager is not initialized.\u001b[39m\u001b[38;5;124m\"\u001b[39m\n\u001b[1;32m     93\u001b[0m     \u001b[38;5;28;01mreturn\u001b[39;00m \u001b[38;5;28mcls\u001b[39m\u001b[38;5;241m.\u001b[39m_instance\u001b[38;5;241m.\u001b[39m_device\n",
      "\u001b[0;31mAssertionError\u001b[0m: DistributedManager is not initialized."
     ]
    }
   ],
   "source": [
    "from modulus.models.graph_cast_net import GraphCastNet\n",
    "model = GraphCastNet(cfg)\n",
    "model.metadata"
   ]
  }
 ],
 "metadata": {
  "kernelspec": {
   "display_name": "venv_arm64",
   "language": "python",
   "name": "venv_arm64"
  },
  "language_info": {
   "codemirror_mode": {
    "name": "ipython",
    "version": 3
   },
   "file_extension": ".py",
   "mimetype": "text/x-python",
   "name": "python",
   "nbconvert_exporter": "python",
   "pygments_lexer": "ipython3",
   "version": "3.10.12"
  }
 },
 "nbformat": 4,
 "nbformat_minor": 2
}
