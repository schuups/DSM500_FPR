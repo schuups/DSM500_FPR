{
 "cells": [
  {
   "cell_type": "code",
   "execution_count": 10,
   "metadata": {},
   "outputs": [
    {
     "name": "stdout",
     "output_type": "stream",
     "text": [
      "Dataloader took 2.002024 seconds\n"
     ]
    }
   ],
   "source": [
    "import time\n",
    "from contextlib import contextmanager\n",
    "\n",
    "class Timer:\n",
    "    def __enter__(self):\n",
    "        self.start = time.perf_counter()\n",
    "        return self\n",
    "\n",
    "    def __exit__(self, exc_type, exc_value, traceback):\n",
    "        self.elapsed = time.perf_counter() - self.start\n",
    "\n",
    "    def __float__(self):\n",
    "        return self.elapsed\n",
    "\n",
    "    def __str__(self):\n",
    "        return str(self.elapsed)\n",
    "\n",
    "    def __repr__(self):\n",
    "        return self.elapsed\n",
    "\n",
    "    def __format__(self, format_spec):\n",
    "        return format(self.elapsed, format_spec)\n",
    "\n",
    "# Usage:\n",
    "with Timer() as elapsed_time:\n",
    "    time.sleep(2)\n",
    "\n",
    "time.sleep(3.5)\n",
    "\n",
    "print(f\"Dataloader took {elapsed_time:.6f} seconds\")\n"
   ]
  }
 ],
 "metadata": {
  "kernelspec": {
   "display_name": "venv_arm64",
   "language": "python",
   "name": "venv_arm64"
  },
  "language_info": {
   "codemirror_mode": {
    "name": "ipython",
    "version": 3
   },
   "file_extension": ".py",
   "mimetype": "text/x-python",
   "name": "python",
   "nbconvert_exporter": "python",
   "pygments_lexer": "ipython3",
   "version": "3.10.12"
  }
 },
 "nbformat": 4,
 "nbformat_minor": 2
}
