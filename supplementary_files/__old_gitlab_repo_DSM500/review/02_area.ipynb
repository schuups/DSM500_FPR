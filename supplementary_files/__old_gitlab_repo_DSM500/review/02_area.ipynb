{
 "cells": [
  {
   "cell_type": "markdown",
   "metadata": {},
   "source": [
    "# Area weights factor computation"
   ]
  },
  {
   "cell_type": "code",
   "execution_count": 1,
   "metadata": {},
   "outputs": [
    {
     "name": "stderr",
     "output_type": "stream",
     "text": [
      "[W1130 16:40:36.892607683 Utils.hpp:135] Warning: Environment variable NCCL_ASYNC_ERROR_HANDLING is deprecated; use TORCH_NCCL_ASYNC_ERROR_HANDLING instead (function operator())\n"
     ]
    }
   ],
   "source": [
    "%run review/__common.py\n",
    "%load_ext autoreload\n",
    "%autoreload 2"
   ]
  },
  {
   "cell_type": "markdown",
   "metadata": {},
   "source": [
    "\n",
    "Right after `datapipe`, `area` is initialized [1]. What is it and what for?\n",
    "\n",
    "```python\n",
    "class GraphCastTrainer(BaseTrainer):\n",
    "    def __init__(self, cfg: DictConfig, dist, rank_zero_logger):\n",
    "        ...\n",
    "        # get normalized area\n",
    "        self.area = normalized_grid_cell_area(self.lat_lon_grid[:, :, 0], unit=\"deg\")\n",
    "```\n",
    "\n",
    "This requires `lat_lon_grid` which I dig out of the GraphCast Model [2]:\n",
    "\n",
    "```python\n",
    "class GraphCastNet(Module):\n",
    "    ...\n",
    "    def __init__(...):\n",
    "        ...\n",
    "        # create the lat_lon_grid\n",
    "        self.latitudes = torch.linspace(-90, 90, steps=input_res[0]) # from init we have that input_res[0] is 721\n",
    "        self.longitudes = torch.linspace(-180, 180, steps=input_res[1] + 1)[1:] # from init we have that input_res[1] is 1440\n",
    "        self.lat_lon_grid = torch.stack(\n",
    "            torch.meshgrid(self.latitudes, self.longitudes, indexing=\"ij\"), dim=-1\n",
    "        )\n",
    "```\n",
    "\n",
    "- [1] https://vscode.dev/github/NVIDIA/modulus/blob/main/examples/weather/graphcast/train_graphcast.py#L218\n",
    "- [2] https://vscode.dev/github/NVIDIA/modulus/blob/main/modulus/models/graphcast/graph_cast_net.py#L297"
   ]
  },
  {
   "cell_type": "code",
   "execution_count": 3,
   "metadata": {},
   "outputs": [
    {
     "data": {
      "text/plain": [
       "(torch.Size([721, 1440, 2]), tensor([ -90.0000, -179.7500]), tensor([0., 0.]))"
      ]
     },
     "execution_count": 3,
     "metadata": {},
     "output_type": "execute_result"
    }
   ],
   "source": [
    "input_res = (721, 1440)\n",
    "latitudes = torch.linspace(-90, 90, steps=input_res[0])\n",
    "longitudes = torch.linspace(-180, 180, steps=input_res[1] + 1)[1:]\n",
    "\n",
    "lat_lon_grid = torch.stack(torch.meshgrid(latitudes, longitudes, indexing=\"ij\"), dim=-1)\n",
    "lat_lon_grid.shape, lat_lon_grid[0, 0], lat_lon_grid[input_res[0]//2, input_res[1]//2-1]"
   ]
  },
  {
   "cell_type": "markdown",
   "metadata": {},
   "source": [
    "So, `lat_lon_grid` is actually a mapper between 0-indexed coordinates over the `721, 1440` rectangle of the input channels, and the latitudes and longituted coordinates of such points.\n",
    "\n",
    "The `+ 1)[1:]` trick ensures that the -180 and +180 degrees on the longitutes (which are actually the exact same point) do not get counted twice.\n",
    "\n",
    "---\n",
    "\n",
    "So, back to the `normalized_grid_cell_area` function:\n",
    "\n",
    "```python\n",
    "# get normalized area\n",
    "self.area = normalized_grid_cell_area(self.lat_lon_grid[:, :, 0], unit=\"deg\")\n",
    "```\n",
    "\n",
    "`lat_lon_grid[:, :, 0]` selects all the latitudes (poles to poles) coordinates.\n",
    "\n",
    "The function definition is found in [1]:\n",
    "\n",
    "```python\n",
    "from modulus.utils.graphcast.graph_utils import deg2rad\n",
    "\n",
    "# Included from another file\n",
    "def deg2rad(deg: Tensor) -> Tensor:\n",
    "    \"\"\"Converts degrees to radians\"\"\"\n",
    "    return deg * np.pi / 180\n",
    "\n",
    "def normalized_grid_cell_area(lat: Tensor, unit=\"deg\") -> Tensor:\n",
    "    \"\"\"Normalized area of the latitude-longitude grid cell\"\"\"\n",
    "    if unit == \"deg\":\n",
    "        lat = deg2rad(lat)\n",
    "    area = torch.abs(torch.cos(lat))\n",
    "    return area / torch.mean(area)\n",
    "```\n",
    "\n",
    "- [1] https://vscode.dev/github.com/NVIDIA/modulus/blob/main/examples/weather/graphcast/loss/utils.py#L23"
   ]
  },
  {
   "cell_type": "code",
   "execution_count": 4,
   "metadata": {},
   "outputs": [
    {
     "data": {
      "text/plain": [
       "tensor([[-90.0000, -90.0000, -90.0000, -90.0000],\n",
       "        [-89.7500, -89.7500, -89.7500, -89.7500],\n",
       "        [-89.5000, -89.5000, -89.5000, -89.5000],\n",
       "        ...,\n",
       "        [ 89.5000,  89.5000,  89.5000,  89.5000],\n",
       "        [ 89.7500,  89.7500,  89.7500,  89.7500],\n",
       "        [ 90.0000,  90.0000,  90.0000,  90.0000]])"
      ]
     },
     "execution_count": 4,
     "metadata": {},
     "output_type": "execute_result"
    }
   ],
   "source": [
    "from loss.utils import normalized_grid_cell_area\n",
    "\n",
    "lat_lon_grid[:, :4, 0]"
   ]
  },
  {
   "cell_type": "code",
   "execution_count": 5,
   "metadata": {},
   "outputs": [
    {
     "data": {
      "text/plain": [
       "tensor([[-1.5708, -1.5708, -1.5708, -1.5708],\n",
       "        [-1.5664, -1.5664, -1.5664, -1.5664],\n",
       "        [-1.5621, -1.5621, -1.5621, -1.5621],\n",
       "        ...,\n",
       "        [ 1.5621,  1.5621,  1.5621,  1.5621],\n",
       "        [ 1.5664,  1.5664,  1.5664,  1.5664],\n",
       "        [ 1.5708,  1.5708,  1.5708,  1.5708]])"
      ]
     },
     "execution_count": 5,
     "metadata": {},
     "output_type": "execute_result"
    }
   ],
   "source": [
    "def deg2rad(deg):\n",
    "    return deg * np.pi / 180\n",
    "\n",
    "deg2rad(lat_lon_grid[:, :4, 0])"
   ]
  },
  {
   "cell_type": "code",
   "execution_count": 6,
   "metadata": {},
   "outputs": [
    {
     "data": {
      "text/plain": [
       "tensor([[-4.3711e-08, -4.3711e-08, -4.3711e-08, -4.3711e-08],\n",
       "        [ 4.3632e-03,  4.3632e-03,  4.3632e-03,  4.3632e-03],\n",
       "        [ 8.7266e-03,  8.7266e-03,  8.7266e-03,  8.7266e-03],\n",
       "        ...,\n",
       "        [ 8.7266e-03,  8.7266e-03,  8.7266e-03,  8.7266e-03],\n",
       "        [ 4.3632e-03,  4.3632e-03,  4.3632e-03,  4.3632e-03],\n",
       "        [-4.3711e-08, -4.3711e-08, -4.3711e-08, -4.3711e-08]])"
      ]
     },
     "execution_count": 6,
     "metadata": {},
     "output_type": "execute_result"
    }
   ],
   "source": [
    "torch.cos(deg2rad(lat_lon_grid[:, :4, 0]))"
   ]
  },
  {
   "cell_type": "code",
   "execution_count": 7,
   "metadata": {},
   "outputs": [
    {
     "data": {
      "text/plain": [
       "tensor([[6.8757e-08, 6.8757e-08, 6.8757e-08, 6.8757e-08],\n",
       "        [6.8633e-03, 6.8633e-03, 6.8633e-03, 6.8633e-03],\n",
       "        [1.3727e-02, 1.3727e-02, 1.3727e-02, 1.3727e-02],\n",
       "        ...,\n",
       "        [1.3727e-02, 1.3727e-02, 1.3727e-02, 1.3727e-02],\n",
       "        [6.8633e-03, 6.8633e-03, 6.8633e-03, 6.8633e-03],\n",
       "        [6.8757e-08, 6.8757e-08, 6.8757e-08, 6.8757e-08]])"
      ]
     },
     "execution_count": 7,
     "metadata": {},
     "output_type": "execute_result"
    }
   ],
   "source": [
    "area = normalized_grid_cell_area(lat_lon_grid[:, :, 0], unit=\"deg\")\n",
    "area[:, :4]"
   ]
  },
  {
   "cell_type": "code",
   "execution_count": 8,
   "metadata": {},
   "outputs": [
    {
     "data": {
      "image/png": "[encoded data removed]",
      "text/plain": [
       "<Figure size 640x480 with 2 Axes>"
      ]
     },
     "metadata": {},
     "output_type": "display_data"
    }
   ],
   "source": [
    "plt.imshow(area)\n",
    "plt.colorbar()\n",
    "plt.title(\"area weights\")\n",
    "plt.show()"
   ]
  },
  {
   "cell_type": "markdown",
   "metadata": {},
   "source": [
    "The `normalized_grid_cell_area` function seems to compute a weighing factor for the gridpoints to account for the density of points at different latitudes."
   ]
  }
 ],
 "metadata": {
  "kernelspec": {
   "display_name": "venv",
   "language": "python",
   "name": "venv"
  },
  "language_info": {
   "codemirror_mode": {
    "name": "ipython",
    "version": 3
   },
   "file_extension": ".py",
   "mimetype": "text/x-python",
   "name": "python",
   "nbconvert_exporter": "python",
   "pygments_lexer": "ipython3",
   "version": "3.10.12"
  }
 },
 "nbformat": 4,
 "nbformat_minor": 2
}
