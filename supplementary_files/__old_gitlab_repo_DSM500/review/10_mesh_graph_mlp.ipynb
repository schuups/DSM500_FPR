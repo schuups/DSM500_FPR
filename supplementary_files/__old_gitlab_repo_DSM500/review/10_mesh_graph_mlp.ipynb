{
 "cells": [
  {
   "cell_type": "markdown",
   "metadata": {},
   "source": [
    "# Mesh Graph MLP"
   ]
  },
  {
   "cell_type": "code",
   "execution_count": 1,
   "metadata": {},
   "outputs": [
    {
     "name": "stderr",
     "output_type": "stream",
     "text": [
      "[W1229 14:29:29.963482339 Utils.hpp:135] Warning: Environment variable NCCL_ASYNC_ERROR_HANDLING is deprecated; use TORCH_NCCL_ASYNC_ERROR_HANDLING instead (function operator())\n"
     ]
    }
   ],
   "source": [
    "%run review/__common.py\n",
    "%load_ext autoreload\n",
    "%autoreload 2"
   ]
  },
  {
   "cell_type": "markdown",
   "metadata": {},
   "source": [
    "## init()\n",
    "\n",
    "Values copied from [09_GraphCastEncoderEmbedder.ipynb](09_GraphCastEncoderEmbedder.ipynb)"
   ]
  },
  {
   "cell_type": "code",
   "execution_count": 2,
   "metadata": {},
   "outputs": [],
   "source": [
    "input_dim_grid_nodes = 31\n",
    "input_dim_mesh_nodes = 3\n",
    "input_dim_edges = 4\n",
    "output_dim = 64\n",
    "hidden_dim = 64\n",
    "hidden_layers = 1\n",
    "activation_fn = get_activation(\"silu\")\n",
    "norm_type = \"TELayerNorm\"\n",
    "recompute_activation = True"
   ]
  },
  {
   "cell_type": "code",
   "execution_count": 3,
   "metadata": {},
   "outputs": [],
   "source": [
    "# Invoked as:\n",
    "# self.grid_node_mlp = MeshGraphMLP(\n",
    "#     input_dim=input_dim_grid_nodes,\n",
    "#     output_dim=output_dim,\n",
    "#     hidden_dim=hidden_dim,\n",
    "#     hidden_layers=hidden_layers,\n",
    "#     activation_fn=activation_fn,\n",
    "#     norm_type=norm_type,\n",
    "#     recompute_activation=recompute_activation,\n",
    "# )\n",
    "\n",
    "# Defined as:\n",
    "# def __init__(\n",
    "#     self,\n",
    "#     input_dim: int,\n",
    "#     output_dim: int = 512,\n",
    "#     hidden_dim: int = 512,\n",
    "#     hidden_layers: Union[int, None] = 1,\n",
    "#     activation_fn: nn.Module = nn.SiLU(),\n",
    "#     norm_type: str = \"LayerNorm\",\n",
    "#     recompute_activation: bool = False,\n",
    "# ):\n",
    "\n",
    "input_dim = input_dim_grid_nodes\n",
    "output_dim = output_dim\n",
    "hidden_dim = hidden_dim\n",
    "hidden_layers = hidden_layers\n",
    "activation_fn = activation_fn\n",
    "norm_type = norm_type\n",
    "recompute_activation = recompute_activation"
   ]
  },
  {
   "cell_type": "code",
   "execution_count": 7,
   "metadata": {},
   "outputs": [
    {
     "data": {
      "text/plain": [
       "[Linear(in_features=31, out_features=64, bias=True), SiLU()]"
      ]
     },
     "execution_count": 7,
     "metadata": {},
     "output_type": "execute_result"
    }
   ],
   "source": [
    "layers = [nn.Linear(input_dim, hidden_dim), activation_fn]\n",
    "layers"
   ]
  },
  {
   "cell_type": "code",
   "execution_count": 8,
   "metadata": {},
   "outputs": [
    {
     "data": {
      "text/plain": [
       "[Linear(in_features=31, out_features=64, bias=True),\n",
       " SiLU(),\n",
       " Linear(in_features=64, out_features=64, bias=True)]"
      ]
     },
     "execution_count": 8,
     "metadata": {},
     "output_type": "execute_result"
    }
   ],
   "source": [
    "for _ in range(hidden_layers - 1):\n",
    "    layers += [nn.Linear(hidden_dim, hidden_dim), activation_fn]\n",
    "layers.append(nn.Linear(hidden_dim, output_dim))\n",
    "layers"
   ]
  },
  {
   "cell_type": "code",
   "execution_count": 9,
   "metadata": {},
   "outputs": [
    {
     "data": {
      "text/plain": [
       "Sequential(\n",
       "  (0): Linear(in_features=31, out_features=64, bias=True)\n",
       "  (1): SiLU()\n",
       "  (2): Linear(in_features=64, out_features=64, bias=True)\n",
       "  (3): LayerNorm()\n",
       ")"
      ]
     },
     "execution_count": 9,
     "metadata": {},
     "output_type": "execute_result"
    }
   ],
   "source": [
    "norm_layer = te.LayerNorm\n",
    "layers.append(norm_layer(output_dim))\n",
    "\n",
    "model = nn.Sequential(*layers)\n",
    "model"
   ]
  },
  {
   "cell_type": "code",
   "execution_count": null,
   "metadata": {},
   "outputs": [],
   "source": []
  }
 ],
 "metadata": {
  "kernelspec": {
   "display_name": "Python 3 (ipykernel)",
   "language": "python",
   "name": "python3"
  },
  "language_info": {
   "codemirror_mode": {
    "name": "ipython",
    "version": 3
   },
   "file_extension": ".py",
   "mimetype": "text/x-python",
   "name": "python",
   "nbconvert_exporter": "python",
   "pygments_lexer": "ipython3",
   "version": "3.10.12"
  }
 },
 "nbformat": 4,
 "nbformat_minor": 2
}
