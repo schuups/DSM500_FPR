{
 "cells": [
  {
   "cell_type": "code",
   "execution_count": 1,
   "id": "f9dc719e-442d-439a-8e1c-5f66c929efd0",
   "metadata": {},
   "outputs": [
    {
     "name": "stdout",
     "output_type": "stream",
     "text": [
      "Looking in indexes: https://pypi.org/simple, https://pypi.ngc.nvidia.com\n",
      "Collecting memory_profiler\n",
      "  Obtaining dependency information for memory_profiler from https://files.pythonhosted.org/packages/49/26/aaca612a0634ceede20682e692a6c55e35a94c21ba36b807cc40fe910ae1/memory_profiler-0.61.0-py3-none-any.whl.metadata\n",
      "  Downloading memory_profiler-0.61.0-py3-none-any.whl.metadata (20 kB)\n",
      "Requirement already satisfied: psutil in /usr/local/lib/python3.10/dist-packages (from memory_profiler) (6.0.0)\n",
      "Downloading memory_profiler-0.61.0-py3-none-any.whl (31 kB)\n",
      "Installing collected packages: memory_profiler\n",
      "Successfully installed memory_profiler-0.61.0\n",
      "\n",
      "\u001b[1m[\u001b[0m\u001b[34;49mnotice\u001b[0m\u001b[1;39;49m]\u001b[0m\u001b[39;49m A new release of pip is available: \u001b[0m\u001b[31;49m23.2.1\u001b[0m\u001b[39;49m -> \u001b[0m\u001b[32;49m24.3.1\u001b[0m\n",
      "\u001b[1m[\u001b[0m\u001b[34;49mnotice\u001b[0m\u001b[1;39;49m]\u001b[0m\u001b[39;49m To update, run: \u001b[0m\u001b[32;49mpython -m pip install --upgrade pip\u001b[0m\n"
     ]
    }
   ],
   "source": [
    "!pip install memory_profiler"
   ]
  },
  {
   "cell_type": "code",
   "execution_count": 1,
   "id": "e7d11b3f-aa6f-4880-885c-72a84021630b",
   "metadata": {},
   "outputs": [
    {
     "data": {
      "text/plain": [
       "525.1875"
      ]
     },
     "execution_count": 1,
     "metadata": {},
     "output_type": "execute_result"
    }
   ],
   "source": [
    "import os\n",
    "import h5py\n",
    "import numpy as np\n",
    "import glob\n",
    "import torch\n",
    "import sys\n",
    "import xarray as xr\n",
    "from netCDF4 import Dataset as ncDataset\n",
    "from collections import defaultdict\n",
    "\n",
    "def get_sorted_file_paths(base_path='/iopsstor/scratch/cscs/stefschu/DSM500/data/FCN_ERA5_data_v0'):\n",
    "    h5_files = glob.glob(os.path.join(base_path, '**', '*.h5'), recursive=True)\n",
    "    return sorted(h5_files)\n",
    "\n",
    "def _slice_hdf5(path, channel):\n",
    "    with h5py.File(path, 'r') as h5_file:\n",
    "        _data = np.array(h5_file[\"fields\"][:, channel, :, :], dtype=np.float64)\n",
    "        return _data\n",
    "\n",
    "def _slice_hdf5_new(path, channel):\n",
    "    with h5py.File(path, 'r') as h5_file:\n",
    "        _data = np.array(h5_file[\"fields\"][:, channel, :, :], dtype=np.float64)\n",
    "        if channel == 20:\n",
    "            _data[_data == -32767.0] = np.nan\n",
    "        return _data\n",
    "\n",
    "import psutil\n",
    "def get_memory_usage():\n",
    "    process = psutil.Process(os.getpid())\n",
    "    return process.memory_info().rss / (1024 * 1024)  # Memory in MiB\n",
    "#%load_ext memory_profiler\n",
    "get_memory_usage()"
   ]
  },
  {
   "cell_type": "code",
   "execution_count": 4,
   "id": "e86c4203-46da-42c6-a026-f48fcd8cf9b8",
   "metadata": {},
   "outputs": [
    {
     "data": {
      "text/plain": [
       "True"
      ]
     },
     "execution_count": 4,
     "metadata": {},
     "output_type": "execute_result"
    }
   ],
   "source": [
    "time_diff_std_new_a = np.load(\"/iopsstor/scratch/cscs/stefschu/DSM500/gitlab/stats/outputs/graphcast/time_diff_std_new.npy\")\n",
    "time_diff_std_new_b = np.load(\"/iopsstor/scratch/cscs/stefschu/DSM500/data/FCN_ERA5_data_v0/stats/time_diff_std_new.npy\")\n",
    "\n",
    "np.allclose(time_diff_std_new_a, time_diff_std_new_b)"
   ]
  },
  {
   "cell_type": "code",
   "execution_count": 5,
   "id": "0d897080-b941-439d-b34b-e5572c84d81f",
   "metadata": {},
   "outputs": [
    {
     "data": {
      "text/plain": [
       "True"
      ]
     },
     "execution_count": 5,
     "metadata": {},
     "output_type": "execute_result"
    }
   ],
   "source": [
    "time_diff_mean_new_a = np.load(\"/iopsstor/scratch/cscs/stefschu/DSM500/gitlab/stats/outputs/graphcast/time_diff_mean_new.npy\")\n",
    "time_diff_mean_new_b = np.load(\"/iopsstor/scratch/cscs/stefschu/DSM500/data/FCN_ERA5_data_v0/stats/time_diff_mean_new.npy\")\n",
    "\n",
    "np.allclose(time_diff_mean_new_a, time_diff_mean_new_b)"
   ]
  },
  {
   "cell_type": "code",
   "execution_count": null,
   "id": "6668f96b-3508-41d2-8f9d-a208f5d84463",
   "metadata": {},
   "outputs": [],
   "source": []
  },
  {
   "cell_type": "code",
   "execution_count": 9,
   "id": "604a81ea-040f-4bf8-a8ef-1810c013f0cf",
   "metadata": {},
   "outputs": [
    {
     "name": "stdout",
     "output_type": "stream",
     "text": [
      "peak memory: 17780.94 MiB, increment: 17247.88 MiB\n"
     ]
    }
   ],
   "source": [
    "%%memit\n",
    "_data_without = _slice_hdf5(\"/iopsstor/scratch/cscs/stefschu/DSM500/data/FCN_ERA5_data_v0/train/1990.h5\", 20)"
   ]
  },
  {
   "cell_type": "code",
   "execution_count": 2,
   "id": "dbbc2577-db0f-4f54-be9e-8bcebdaf186d",
   "metadata": {},
   "outputs": [
    {
     "name": "stderr",
     "output_type": "stream",
     "text": [
      "UsageError: Cell magic `%%memit` not found.\n"
     ]
    }
   ],
   "source": [
    "%%memit\n",
    "_data_with = _slice_hdf5_new(\"/iopsstor/scratch/cscs/stefschu/DSM500/data/FCN_ERA5_data_v0/train/1990.h5\", 20)"
   ]
  },
  {
   "cell_type": "code",
   "execution_count": 19,
   "id": "9fffa092-668e-44be-9fea-f43dd0746832",
   "metadata": {},
   "outputs": [
    {
     "data": {
      "text/plain": [
       "(1460, 721, 1440)"
      ]
     },
     "execution_count": 19,
     "metadata": {},
     "output_type": "execute_result"
    }
   ],
   "source": [
    "_data = _slice_hdf5_new(\"/iopsstor/scratch/cscs/stefschu/DSM500/data/FCN_ERA5_data_v0/train/1990.h5\", 20)\n",
    "_data.shape"
   ]
  },
  {
   "cell_type": "code",
   "execution_count": 3,
   "id": "62eb187b-4324-47d3-a849-275944a48d74",
   "metadata": {},
   "outputs": [
    {
     "data": {
      "text/plain": [
       "((1, 21, 1, 1), (1, 21, 1, 1))"
      ]
     },
     "execution_count": 3,
     "metadata": {},
     "output_type": "execute_result"
    }
   ],
   "source": [
    "means_with_sst_fix = np.load(\"/iopsstor/scratch/cscs/stefschu/DSM500/gitlab/stats/global_means_with_sst_fix.npy\")\n",
    "stds_with_sst_fix = np.load(\"/iopsstor/scratch/cscs/stefschu/DSM500/gitlab/stats/global_stds_with_sst_fix.npy\")\n",
    "\n",
    "means_with_sst_fix.shape, stds_with_sst_fix.shape"
   ]
  },
  {
   "cell_type": "code",
   "execution_count": 4,
   "id": "0a68e986-f358-4ad9-8d4d-2aac818f1ed5",
   "metadata": {},
   "outputs": [],
   "source": [
    "np.save(\"/iopsstor/scratch/cscs/stefschu/DSM500/gitlab/stats/global_means_with_sst_fix.npy\", means_with_sst_fix.astype(np.float32))\n",
    "np.save(\"/iopsstor/scratch/cscs/stefschu/DSM500/gitlab/stats/global_stds_with_sst_fix.npy\", stds_with_sst_fix.astype(np.float32))"
   ]
  },
  {
   "cell_type": "code",
   "execution_count": 14,
   "id": "c15567dd-8074-4ede-bb54-aabaffe5f245",
   "metadata": {},
   "outputs": [
    {
     "data": {
      "text/plain": [
       "(dtype('float64'), dtype('float128'), dtype('float128'))"
      ]
     },
     "execution_count": 14,
     "metadata": {},
     "output_type": "execute_result"
    }
   ],
   "source": [
    "_data.dtype, means_with_sst_fix.dtype, stds_with_sst_fix.dtype"
   ]
  },
  {
   "cell_type": "code",
   "execution_count": 15,
   "id": "d96859f4-f342-4c50-b6fa-f7df96dfa632",
   "metadata": {},
   "outputs": [
    {
     "data": {
      "text/plain": [
       "1002091440"
      ]
     },
     "execution_count": 15,
     "metadata": {},
     "output_type": "execute_result"
    }
   ],
   "source": [
    "np.sum(~np.isnan(_data))"
   ]
  },
  {
   "cell_type": "code",
   "execution_count": 16,
   "id": "58f87386-7943-495b-be7b-7c70d3968ae2",
   "metadata": {},
   "outputs": [
    {
     "data": {
      "text/plain": [
       "(1460, 721, 1440)"
      ]
     },
     "execution_count": 16,
     "metadata": {},
     "output_type": "execute_result"
    }
   ],
   "source": [
    "_data[:, :, :] = 1.\n",
    "_data.shape"
   ]
  },
  {
   "cell_type": "code",
   "execution_count": 17,
   "id": "b4b7d8b1-585d-4fbf-8a28-eb8a5c0218e1",
   "metadata": {},
   "outputs": [
    {
     "data": {
      "text/plain": [
       "1515830400"
      ]
     },
     "execution_count": 17,
     "metadata": {},
     "output_type": "execute_result"
    }
   ],
   "source": [
    "np.sum(~np.isnan(_data))"
   ]
  },
  {
   "cell_type": "code",
   "execution_count": 23,
   "id": "da79f859-549d-4365-aa23-09967348db7f",
   "metadata": {},
   "outputs": [
    {
     "data": {
      "text/plain": [
       "11.50638266495773"
      ]
     },
     "execution_count": 23,
     "metadata": {},
     "output_type": "execute_result"
    }
   ],
   "source": [
    "np.nanstd(_data)"
   ]
  },
  {
   "cell_type": "code",
   "execution_count": 24,
   "id": "37526eb8-e21a-40cc-8a5b-11dae0a1724e",
   "metadata": {},
   "outputs": [
    {
     "data": {
      "text/plain": [
       "array([[11.55724928]], dtype=float128)"
      ]
     },
     "execution_count": 24,
     "metadata": {},
     "output_type": "execute_result"
    }
   ],
   "source": [
    "stds_with_sst_fix[0, 20]"
   ]
  },
  {
   "cell_type": "code",
   "execution_count": 13,
   "id": "2d8b7f5a-7164-48ef-a75f-558d14aef403",
   "metadata": {},
   "outputs": [
    {
     "name": "stdout",
     "output_type": "stream",
     "text": [
      "peak memory: 23662.88 MiB, increment: 0.00 MiB\n"
     ]
    }
   ],
   "source": [
    "%%memit\n",
    "np.mean(_data_without, dtype=np.float128)"
   ]
  },
  {
   "cell_type": "code",
   "execution_count": 14,
   "id": "df611729-fc9c-4592-8490-92af53fab638",
   "metadata": {},
   "outputs": [
    {
     "name": "stdout",
     "output_type": "stream",
     "text": [
      "peak memory: 38117.19 MiB, increment: 14454.31 MiB\n"
     ]
    }
   ],
   "source": [
    "%%memit\n",
    "np.nanmean(_data_with, dtype=np.float128)"
   ]
  },
  {
   "cell_type": "code",
   "execution_count": 15,
   "id": "4f6be63f-d089-4422-9215-d1ec8e91156c",
   "metadata": {},
   "outputs": [
    {
     "name": "stdout",
     "output_type": "stream",
     "text": [
      "peak memory: 25108.69 MiB, increment: 1445.19 MiB\n"
     ]
    }
   ],
   "source": [
    "%%memit\n",
    "np.sum(~np.isnan(_data_with), dtype=np.float128)"
   ]
  },
  {
   "cell_type": "code",
   "execution_count": 3,
   "id": "29b15f11-b2fd-4bcd-a4e1-e10869c424aa",
   "metadata": {},
   "outputs": [
    {
     "name": "stdout",
     "output_type": "stream",
     "text": [
      "Rank 010 processing channel 10 of file_path_id=0 /iopsstor/scratch/cscs/stefschu/DSM500/data/FCN_ERA5_data_v0/out_of_sample/2018.h5\n"
     ]
    }
   ],
   "source": [
    "rank = 10\n",
    "\n",
    "# Translate parameters\n",
    "file_path_id = rank // 21\n",
    "file_path = get_sorted_file_paths()[file_path_id]\n",
    "channel_id = rank % 21\n",
    "print(f\"Rank {rank:03} processing channel {channel_id:02} of {file_path_id=} {file_path}\")"
   ]
  },
  {
   "cell_type": "code",
   "execution_count": 9,
   "id": "30fe0801-7d7f-4597-ad05-6af3ed2340e7",
   "metadata": {},
   "outputs": [
    {
     "data": {
      "text/plain": [
       "(0.14251510029185673256096374097408843, dtype('float128'), dtype('float64'))"
      ]
     },
     "execution_count": 9,
     "metadata": {},
     "output_type": "execute_result"
    }
   ],
   "source": [
    "global_means = np.load(f\"/iopsstor/scratch/cscs/stefschu/DSM500/gitlab/stats/global_means.npy\")\n",
    "channel_mean = global_means.squeeze()[channel_id]\n",
    "local_channel_data = _slice_hdf5(file_path, channel_id)\n",
    "\n",
    "channel_mean, channel_mean.dtype, local_channel_data.dtype"
   ]
  },
  {
   "cell_type": "code",
   "execution_count": 10,
   "id": "0a8f8f82-f3cd-40c2-b4ee-786f4da0be88",
   "metadata": {},
   "outputs": [
    {
     "data": {
      "text/plain": [
       "12096.5625"
      ]
     },
     "execution_count": 10,
     "metadata": {},
     "output_type": "execute_result"
    }
   ],
   "source": [
    "get_memory_usage()"
   ]
  },
  {
   "cell_type": "code",
   "execution_count": 16,
   "id": "72ab503f-33c9-4337-a8e8-2abe06aeb78a",
   "metadata": {},
   "outputs": [
    {
     "name": "stdout",
     "output_type": "stream",
     "text": [
      "peak memory: 22545.12 MiB, increment: 10443.38 MiB\n"
     ]
    }
   ],
   "source": [
    "%%memit\n",
    "local_channel_data = local_channel_data - channel_mean"
   ]
  },
  {
   "cell_type": "code",
   "execution_count": 20,
   "id": "6509c6f8-4f38-4032-b467-0f77a85dc24d",
   "metadata": {},
   "outputs": [
    {
     "name": "stdout",
     "output_type": "stream",
     "text": [
      "peak memory: 15586.69 MiB, increment: 3484.75 MiB\n"
     ]
    }
   ],
   "source": [
    "%%memit\n",
    "local_parts = list()\n",
    "local_parts.append(np.sum(np.square(local_channel_data[1200:] - channel_mean), dtype=np.float128))"
   ]
  },
  {
   "cell_type": "code",
   "execution_count": null,
   "id": "6b3b580e-9378-40d6-86ec-5eec394147fb",
   "metadata": {},
   "outputs": [],
   "source": [
    "directory_path = '/iopsstor/scratch/cscs/stefschu/DSM500/data/FCN_ERA5_data_v0'\n",
    "h5_files = glob.glob(os.path.join(directory_path, '**', '*.h5'), recursive=True)\n",
    "h5_files = sorted(h5_files)\n",
    "h5_files"
   ]
  },
  {
   "cell_type": "code",
   "execution_count": 3,
   "id": "adcffc1f-1cf9-4346-8408-d754787bf125",
   "metadata": {},
   "outputs": [
    {
     "data": {
      "text/plain": [
       "((1, 21, 1, 1), (1, 21, 1, 1))"
      ]
     },
     "execution_count": 3,
     "metadata": {},
     "output_type": "execute_result"
    }
   ],
   "source": [
    "means_nersc = np.load(\"/iopsstor/scratch/cscs/stefschu/DSM500/stats/global_means_nersc.npy\")\n",
    "stds_nersc = np.load(\"/iopsstor/scratch/cscs/stefschu/DSM500/stats/global_stds_nersc.npy\")\n",
    "\n",
    "means_nersc.shape, stds_nersc.shape"
   ]
  },
  {
   "cell_type": "code",
   "execution_count": 5,
   "id": "ce55f78e-5595-4c97-bd2f-f68b5843575f",
   "metadata": {},
   "outputs": [
    {
     "data": {
      "text/plain": [
       "((1, 21, 1, 1), (1, 21, 1, 1))"
      ]
     },
     "execution_count": 5,
     "metadata": {},
     "output_type": "execute_result"
    }
   ],
   "source": [
    "means_no_sst_fix = np.load(\"/iopsstor/scratch/cscs/stefschu/DSM500/gitlab/stats/global_means_no_sst_fix.npy\")\n",
    "stds_no_sst_fix = np.load(\"/iopsstor/scratch/cscs/stefschu/DSM500/gitlab/stats/global_stds_no_sst_fix.npy\")\n",
    "\n",
    "means_no_sst_fix.shape, stds_no_sst_fix.shape"
   ]
  },
  {
   "cell_type": "code",
   "execution_count": 7,
   "id": "a62234ba-d598-4eff-b72d-292ebd49d411",
   "metadata": {},
   "outputs": [
    {
     "data": {
      "text/plain": [
       "((1, 21, 1, 1), (1, 21, 1, 1))"
      ]
     },
     "execution_count": 7,
     "metadata": {},
     "output_type": "execute_result"
    }
   ],
   "source": [
    "means_with_sst_fix = np.load(\"/iopsstor/scratch/cscs/stefschu/DSM500/gitlab/stats/global_means_with_sst_fix.npy\")\n",
    "stds_with_sst_fix = np.load(\"/iopsstor/scratch/cscs/stefschu/DSM500/gitlab/stats/global_stds_with_sst_fix.npy\")\n",
    "\n",
    "means_with_sst_fix.shape, stds_with_sst_fix.shape"
   ]
  },
  {
   "cell_type": "code",
   "execution_count": 9,
   "id": "f1e78659-557a-46d0-8fec-a184bf5db013",
   "metadata": {},
   "outputs": [],
   "source": [
    "means_nersc = means_nersc.squeeze()\n",
    "means_no_sst_fix = means_no_sst_fix.squeeze()\n",
    "means_with_sst_fix = means_with_sst_fix.squeeze()\n",
    "\n",
    "stds_nersc = stds_nersc.squeeze()\n",
    "stds_no_sst_fix = stds_no_sst_fix.squeeze()\n",
    "stds_with_sst_fix = stds_with_sst_fix.squeeze()"
   ]
  },
  {
   "cell_type": "code",
   "execution_count": 34,
   "id": "89b59e6d-3a2e-4f74-96ac-528880eb01e9",
   "metadata": {},
   "outputs": [
    {
     "name": "stdout",
     "output_type": "stream",
     "text": [
      "Channel  0:        -0.048774521750804        -0.006421389803290 (  0.04235)  (  86.83454%)\n",
      "Channel  1:         0.189605237884631         0.293685093522072 (  0.10408)  (  54.89292%)\n",
      "Channel  2:       278.453116238492555       279.020666503906227 (  0.56755)  (   0.20382%)\n",
      "Channel  3:     96650.386689044637023     96601.067187499997090 ( 49.31950)  (   0.05103%)\n",
      "Channel  4:    100957.487968644374632    100906.415624999994179 ( 51.07234)  (   0.05059%)\n",
      "Channel  5:       274.528389576391021       274.948004150390602 (  0.41961)  (   0.15285%)\n",
      "Channel  6:        -0.030998064141286         0.010713329911232 (  0.04171)  ( 134.56129%)\n",
      "Channel  7:         0.187103207878097         0.300078022480011 (  0.11297)  (  60.38101%)\n",
      "Channel  8:       737.073849346994166       698.255676269531250 ( 38.81817)  (   5.26652%)\n",
      "Channel  9:         1.417158680281130         1.477350687980652 (  0.06019)  (   4.24737%)\n",
      "Channel 10:         0.142515100291857         0.215618632733822 (  0.07310)  (  51.29529%)\n",
      "Channel 11:     13747.947778811550961     13735.682031250000364 ( 12.26575)  (   0.08922%)\n",
      "Channel 12:         6.552441651334550         6.357239818572998 (  0.19520)  (   2.97907%)\n",
      "Channel 13:        -0.024630183255931        -0.037866133265197 (  0.01324)  (  53.73874%)\n",
      "Channel 14:     54110.098480131520773     54170.414062500000000 ( 60.31558)  (   0.11147%)\n",
      "Channel 15:       252.930407714486279       202.868243408203114 ( 50.06216)  (  19.79286%)\n",
      "Channel 16:    199361.209045266499743    199242.690624999988358 (118.51842)  (   0.05945%)\n",
      "Channel 17:        50.423073377451260        49.952967834472659 (  0.47011)  (   0.93232%)\n",
      "Channel 18:        69.128738223628616        69.042169189453119 (  0.08657)  (   0.12523%)\n",
      "Channel 19:        18.303451441220652        18.724316787719726 (  0.42087)  (   2.29938%)\n",
      "Channel 20:    -10915.601552276597431    -10915.742968750000728 (  0.14142)  (   0.00130%)\n"
     ]
    }
   ],
   "source": [
    "for c in range(21):\n",
    "    diff = np.abs(means_no_sst_fix[c]-means_nersc[c])\n",
    "    print(f\"Channel {c:>2}: {means_no_sst_fix[c]:25.15f} {means_nersc[c]:25.15f} ({diff:9.5f})  ({np.abs(diff*100/means_no_sst_fix[c]):10.5f}%)\")"
   ]
  },
  {
   "cell_type": "code",
   "execution_count": 36,
   "id": "fc8d0f26-e424-40f2-87dd-bdf93c5d8dd9",
   "metadata": {},
   "outputs": [
    {
     "name": "stdout",
     "output_type": "stream",
     "text": [
      "Channel  0:         5.543580340199223         5.612823667305403 (     0.06924)  (   1.24907%)\n",
      "Channel  1:         4.762262300438604         4.779908035542846 (     0.01765)  (   0.37053%)\n",
      "Channel  2:        21.289407924965573        21.424178310025468 (     0.13477)  (   0.63304%)\n",
      "Channel  3:      9587.904724292517130      9669.023197820966743 (    81.11847)  (   0.84605%)\n",
      "Channel  4:      1332.690082683000355      1386.300842169548787 (    53.61076)  (   4.02275%)\n",
      "Channel  5:        15.625534016319731        15.740415145265784 (     0.11488)  (   0.73521%)\n",
      "Channel  6:         6.137201304841411         6.196485803244808 (     0.05928)  (   0.96599%)\n",
      "Channel  7:         5.304173277914519         5.309539149341830 (     0.00537)  (   0.10116%)\n",
      "Channel  8:      1072.826864554260510      1129.480599656320010 (    56.65374)  (   5.28079%)\n",
      "Channel  9:         8.185777989488274         8.281581195470341 (     0.09580)  (   1.17036%)\n",
      "Channel 10:         6.262028568829255         6.250067992794222 (     0.01196)  (   0.19100%)\n",
      "Channel 11:      1471.421084585769449      1560.232514723366421 (    88.81143)  (   6.03576%)\n",
      "Channel 12:        11.982995433625865        11.911470389127224 (     0.07153)  (   0.59689%)\n",
      "Channel 13:         9.177806455722934         9.145287939912349 (     0.03252)  (   0.35432%)\n",
      "Channel 14:      3357.149188421319195      3439.801389615394783 (    82.65220)  (   2.46198%)\n",
      "Channel 15:        13.074913858211227        11.545313980240804 (     1.52960)  (  11.69874%)\n",
      "Channel 16:      5895.932526316568328      6702.693906184288608 (   806.76138)  (  13.68336%)\n",
      "Channel 17:        33.575039902507896        33.505674877898485 (     0.06937)  (   0.20660%)\n",
      "Channel 18:        26.411389759162468        26.324807608137778 (     0.08658)  (   0.32782%)\n",
      "Channel 19:        16.391719795285312        16.254354509710428 (     0.13737)  (   0.83802%)\n",
      "Channel 20:     15645.768120490549336     15645.226441314296608 (     0.54168)  (   0.00346%)\n"
     ]
    }
   ],
   "source": [
    "for c in range(21):\n",
    "    diff = np.abs(stds_no_sst_fix[c]-stds_nersc[c])\n",
    "    print(f\"Channel {c:>2}: {stds_no_sst_fix[c]:25.15f} {stds_nersc[c]:25.15f} ({diff:12.5f})  ({diff*100/stds_no_sst_fix[c]:10.5f}%)\")"
   ]
  },
  {
   "cell_type": "code",
   "execution_count": 39,
   "id": "7ac72d07-4c25-4652-8c0a-0fa57805065d",
   "metadata": {},
   "outputs": [
    {
     "name": "stdout",
     "output_type": "stream",
     "text": [
      "Channel  0:        -0.048774521750804        -0.006421389803290 (     0.04235)  (  86.83454%)\n",
      "Channel  1:         0.189605237884631         0.293685093522072 (     0.10408)  (  54.89292%)\n",
      "Channel  2:       278.453116238492555       279.020666503906227 (     0.56755)  (   0.20382%)\n",
      "Channel  3:     96650.386689044637023     96601.067187499997090 (    49.31950)  (   0.05103%)\n",
      "Channel  4:    100957.487968644374632    100906.415624999994179 (    51.07234)  (   0.05059%)\n",
      "Channel  5:       274.528389576391021       274.948004150390602 (     0.41961)  (   0.15285%)\n",
      "Channel  6:        -0.030998064141286         0.010713329911232 (     0.04171)  ( 134.56129%)\n",
      "Channel  7:         0.187103207878097         0.300078022480011 (     0.11297)  (  60.38101%)\n",
      "Channel  8:       737.073849346994166       698.255676269531250 (    38.81817)  (   5.26652%)\n",
      "Channel  9:         1.417158680281130         1.477350687980652 (     0.06019)  (   4.24737%)\n",
      "Channel 10:         0.142515100291857         0.215618632733822 (     0.07310)  (  51.29529%)\n",
      "Channel 11:     13747.947778811550961     13735.682031250000364 (    12.26575)  (   0.08922%)\n",
      "Channel 12:         6.552441651334550         6.357239818572998 (     0.19520)  (   2.97907%)\n",
      "Channel 13:        -0.024630183255931        -0.037866133265197 (     0.01324)  (  53.73874%)\n",
      "Channel 14:     54110.098480131520773     54170.414062500000000 (    60.31558)  (   0.11147%)\n",
      "Channel 15:       252.930407714486279       202.868243408203114 (    50.06216)  (  19.79286%)\n",
      "Channel 16:    199361.209045266499743    199242.690624999988358 (   118.51842)  (   0.05945%)\n",
      "Channel 17:        50.423073377451260        49.952967834472659 (     0.47011)  (   0.93232%)\n",
      "Channel 18:        69.128738223628616        69.042169189453119 (     0.08657)  (   0.12523%)\n",
      "Channel 19:        18.303451441220652        18.724316787719726 (     0.42087)  (   2.29938%)\n",
      "Channel 20:       286.883834764565393    -10915.742968750000728 ( 11202.62680)  (3904.93484%)\n"
     ]
    }
   ],
   "source": [
    "for c in range(21):\n",
    "    diff = np.abs(means_with_sst_fix[c]-means_nersc[c])\n",
    "    print(f\"Channel {c:>2}: {means_with_sst_fix[c]:25.15f} {means_nersc[c]:25.15f} ({diff:12.5f})  ({np.abs(diff*100/means_with_sst_fix[c]):10.5f}%)\")"
   ]
  },
  {
   "cell_type": "code",
   "execution_count": 40,
   "id": "283f7274-ab9b-4814-9a5e-205c96c0225a",
   "metadata": {},
   "outputs": [
    {
     "name": "stdout",
     "output_type": "stream",
     "text": [
      "Channel  0:         5.543580340199223         5.612823667305403 (     0.06924)  (   1.24907%)\n",
      "Channel  1:         4.762262300438604         4.779908035542846 (     0.01765)  (   0.37053%)\n",
      "Channel  2:        21.289407924965573        21.424178310025468 (     0.13477)  (   0.63304%)\n",
      "Channel  3:      9587.904724292517130      9669.023197820966743 (    81.11847)  (   0.84605%)\n",
      "Channel  4:      1332.690082683000355      1386.300842169548787 (    53.61076)  (   4.02275%)\n",
      "Channel  5:        15.625534016319731        15.740415145265784 (     0.11488)  (   0.73521%)\n",
      "Channel  6:         6.137201304841411         6.196485803244808 (     0.05928)  (   0.96599%)\n",
      "Channel  7:         5.304173277914519         5.309539149341830 (     0.00537)  (   0.10116%)\n",
      "Channel  8:      1072.826864554260510      1129.480599656320010 (    56.65374)  (   5.28079%)\n",
      "Channel  9:         8.185777989488274         8.281581195470341 (     0.09580)  (   1.17036%)\n",
      "Channel 10:         6.262028568829255         6.250067992794222 (     0.01196)  (   0.19100%)\n",
      "Channel 11:      1471.421084585769449      1560.232514723366421 (    88.81143)  (   6.03576%)\n",
      "Channel 12:        11.982995433625865        11.911470389127224 (     0.07153)  (   0.59689%)\n",
      "Channel 13:         9.177806455722934         9.145287939912349 (     0.03252)  (   0.35432%)\n",
      "Channel 14:      3357.149188421319195      3439.801389615394783 (    82.65220)  (   2.46198%)\n",
      "Channel 15:        13.074913858211227        11.545313980240804 (     1.52960)  (  11.69874%)\n",
      "Channel 16:      5895.932526316568328      6702.693906184288608 (   806.76138)  (  13.68336%)\n",
      "Channel 17:        33.575039902507896        33.505674877898485 (     0.06937)  (   0.20660%)\n",
      "Channel 18:        26.411389759162468        26.324807608137778 (     0.08658)  (   0.32782%)\n",
      "Channel 19:        16.391719795285312        16.254354509710428 (     0.13737)  (   0.83802%)\n",
      "Channel 20:        11.556078253244156     15645.226441314296608 ( 15633.67036)  (135285.25872%)\n"
     ]
    }
   ],
   "source": [
    "for c in range(21):\n",
    "    diff = np.abs(stds_with_sst_fix[c]-stds_nersc[c])\n",
    "    print(f\"Channel {c:>2}: {stds_with_sst_fix[c]:25.15f} {stds_nersc[c]:25.15f} ({diff:12.5f})  ({np.abs(diff*100/stds_with_sst_fix[c]):10.5f}%)\")"
   ]
  },
  {
   "cell_type": "code",
   "execution_count": 21,
   "id": "96242899-2ce5-4791-9cdc-345d9fbdfa11",
   "metadata": {},
   "outputs": [
    {
     "data": {
      "text/plain": [
       "(1460, 721, 1440)"
      ]
     },
     "execution_count": 21,
     "metadata": {},
     "output_type": "execute_result"
    }
   ],
   "source": [
    "def _slice_hdf5(path, channel):\n",
    "    with h5py.File(path, 'r') as h5_file:\n",
    "        _data = np.array(h5_file[\"fields\"][:, channel, :, :], dtype=np.float64)\n",
    "        return _data\n",
    "\n",
    "_data = _slice_hdf5(\"/iopsstor/scratch/cscs/stefschu/DSM500/data/FCN_ERA5_data_v0/train/1990.h5\", 20)\n",
    "_data.shape"
   ]
  },
  {
   "cell_type": "code",
   "execution_count": 22,
   "id": "584787a3-812c-41de-930c-54d06a3a0476",
   "metadata": {},
   "outputs": [
    {
     "data": {
      "text/plain": [
       "-32767.0"
      ]
     },
     "execution_count": 22,
     "metadata": {},
     "output_type": "execute_result"
    }
   ],
   "source": [
    "np.min(_data)"
   ]
  },
  {
   "cell_type": "code",
   "execution_count": 23,
   "id": "79bc9b02-7789-45c5-a21d-34475c302215",
   "metadata": {},
   "outputs": [
    {
     "data": {
      "text/plain": [
       "(-10915.659749781302, 15645.726426435735)"
      ]
     },
     "execution_count": 23,
     "metadata": {},
     "output_type": "execute_result"
    }
   ],
   "source": [
    "np.mean(_data), np.std(_data)"
   ]
  },
  {
   "cell_type": "code",
   "execution_count": 24,
   "id": "0f2190b9-5c1b-4978-a75b-677bdacd05f1",
   "metadata": {},
   "outputs": [],
   "source": [
    "_data[_data == -32767.0] = np.nan"
   ]
  },
  {
   "cell_type": "code",
   "execution_count": 25,
   "id": "0cf55afa-cacb-4817-a3ab-5afd20eccf68",
   "metadata": {},
   "outputs": [
    {
     "data": {
      "text/plain": [
       "(286.7958013343402, 11.50638266495773)"
      ]
     },
     "execution_count": 25,
     "metadata": {},
     "output_type": "execute_result"
    }
   ],
   "source": [
    "np.nanmean(_data), np.nanstd(_data)"
   ]
  },
  {
   "cell_type": "code",
   "execution_count": 39,
   "id": "c4f69d3e-2881-4737-88b3-afd920817206",
   "metadata": {},
   "outputs": [
    {
     "data": {
      "text/plain": [
       "nan"
      ]
     },
     "execution_count": 39,
     "metadata": {},
     "output_type": "execute_result"
    }
   ],
   "source": [
    "np.sum(np.square(np.array([np.nan, 5.]) - np.float64(3.4)))"
   ]
  },
  {
   "cell_type": "code",
   "execution_count": 4,
   "id": "19f6edad-b8e5-4791-a421-9214bf507fdb",
   "metadata": {},
   "outputs": [
    {
     "data": {
      "text/plain": [
       "(array([1., 2., 3.], dtype=float128), array([0.1, 0.2, 0.3], dtype=float128))"
      ]
     },
     "execution_count": 4,
     "metadata": {},
     "output_type": "execute_result"
    }
   ],
   "source": [
    "a = np.array([1, 2, 3], dtype=np.float128)\n",
    "b = np.array([0.1, 0.2, .3], dtype=np.float128)\n",
    "a, b"
   ]
  },
  {
   "cell_type": "code",
   "execution_count": 5,
   "id": "4ca46b5d-9a46-4851-9c9d-1fd4e6bfdf02",
   "metadata": {},
   "outputs": [
    {
     "data": {
      "text/plain": [
       "array([10., 10., 10.], dtype=float128)"
      ]
     },
     "execution_count": 5,
     "metadata": {},
     "output_type": "execute_result"
    }
   ],
   "source": [
    "a/b"
   ]
  }
 ],
 "metadata": {
  "kernelspec": {
   "display_name": "Python 3 (ipykernel)",
   "language": "python",
   "name": "python3"
  },
  "language_info": {
   "codemirror_mode": {
    "name": "ipython",
    "version": 3
   },
   "file_extension": ".py",
   "mimetype": "text/x-python",
   "name": "python",
   "nbconvert_exporter": "python",
   "pygments_lexer": "ipython3",
   "version": "3.10.12"
  }
 },
 "nbformat": 4,
 "nbformat_minor": 5
}
