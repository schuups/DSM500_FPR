{
 "cells": [
  {
   "cell_type": "markdown",
   "metadata": {},
   "source": [
    "# Model study"
   ]
  },
  {
   "cell_type": "code",
   "execution_count": 1,
   "metadata": {},
   "outputs": [
    {
     "name": "stderr",
     "output_type": "stream",
     "text": [
      "/iopsstor/scratch/cscs/stefschu/DSM500/github/modulus-a5275d8/modulus/distributed/manager.py:346: UserWarning: Could not initialize using ENV, SLURM or OPENMPI methods. Assuming this is a single process job\n",
      "  warn(\n"
     ]
    },
    {
     "name": "stdout",
     "output_type": "stream",
     "text": [
      "__common.py loaded\n"
     ]
    },
    {
     "data": {
      "text/plain": [
       "torch.Size([1, 1, 31, 721, 1440])"
      ]
     },
     "execution_count": 1,
     "metadata": {},
     "output_type": "execute_result"
    }
   ],
   "source": [
    "%load_ext autoreload\n",
    "%autoreload 2\n",
    "%run _model/__common.py\n",
    "\n",
    "from modulus.datapipes.climate.era5_hdf5_new import ERA5HDF5Datapipe\n",
    "datapipe = ERA5HDF5Datapipe(\n",
    "    base_path=\"/iopsstor/scratch/cscs/stefschu/DSM500/data/FCN_ERA5_data_v0\",\n",
    "    data_folder=\"train\",\n",
    "    shuffle=False,\n",
    ")\n",
    "\n",
    "data = next(iter(datapipe))\n",
    "input = data[0][\"input\"]\n",
    "input.shape"
   ]
  },
  {
   "cell_type": "markdown",
   "metadata": {},
   "source": [
    "## Model"
   ]
  },
  {
   "cell_type": "code",
   "execution_count": 2,
   "metadata": {},
   "outputs": [
    {
     "name": "stdout",
     "output_type": "stream",
     "text": [
      "GraphCastNet initialization ...\n",
      "GraphCastNet initialization done\n",
      "Started forward pass ...\n",
      "A torch.Size([1, 31, 721, 1440]) torch.Size([31, 721, 1440]) -> torch.Size([1038240, 31])\n",
      "Done with forward pass ...\n"
     ]
    },
    {
     "data": {
      "text/plain": [
       "(torch.Size([1, 1, 31, 721, 1440]), torch.Size([1, 21, 721, 1440]))"
      ]
     },
     "execution_count": 2,
     "metadata": {},
     "output_type": "execute_result"
    }
   ],
   "source": [
    "from modulus.models.graphcast import GraphCastNet\n",
    "\n",
    "model = GraphCastNet(\n",
    "    mesh_level=6,\n",
    "    multimesh=True,\n",
    "    input_res=(721, 1440),\n",
    "    input_dim_grid_nodes=31,\n",
    "    input_dim_mesh_nodes=3,\n",
    "    input_dim_edges=4,\n",
    "    output_dim_grid_nodes=21,\n",
    "    processor_type=\"MessagePassing\",\n",
    "    khop_neighbors=32,\n",
    "    num_attention_heads=4,\n",
    "    processor_layers=16,\n",
    "    hidden_dim=512,\n",
    "    norm_type=\"TELayerNorm\",\n",
    "    do_concat_trick=True,\n",
    "    use_cugraphops_encoder=False,\n",
    "    use_cugraphops_processor=False,\n",
    "    use_cugraphops_decoder=False,\n",
    "    recompute_activation=True,\n",
    ")\n",
    "\n",
    "input_gpu = input.to(dtype=torch.bfloat16).to(\"cuda:0\")\n",
    "model_gpu = model.to(torch.bfloat16).to(\"cuda:0\")\n",
    "output_gpu = model_gpu(input_gpu.squeeze(0))\n",
    "\n",
    "print(input_gpu.shape, output_gpu.shape)\n",
    "\n",
    "del input_gpu, output_gpu, model_gpu\n",
    "torch.cuda.empty_cache()"
   ]
  },
  {
   "cell_type": "code",
   "execution_count": 3,
   "metadata": {},
   "outputs": [],
   "source": [
    "del input_gpu, output_gpu, model_gpu\n",
    "torch.cuda.empty_cache()"
   ]
  },
  {
   "cell_type": "code",
   "execution_count": 17,
   "metadata": {},
   "outputs": [
    {
     "data": {
      "text/plain": [
       "torch.Size([1038240, 31])"
      ]
     },
     "execution_count": 17,
     "metadata": {},
     "output_type": "execute_result"
    }
   ],
   "source": [
    "input.shape\n",
    "input.squeeze(0).squeeze(0).shape\n",
    "input.squeeze(0).squeeze(0).view(31, -1).permute(1, 0).shape"
   ]
  },
  {
   "cell_type": "code",
   "execution_count": 14,
   "metadata": {},
   "outputs": [
    {
     "data": {
      "text/plain": [
       "tensor([1., 1., 1., 1., 1.])"
      ]
     },
     "execution_count": 14,
     "metadata": {},
     "output_type": "execute_result"
    }
   ],
   "source": [
    "torch.ones([1, 1, 31, 721, 1440]).flatten()[:5]"
   ]
  },
  {
   "cell_type": "code",
   "execution_count": 44,
   "metadata": {},
   "outputs": [
    {
     "ename": "IndentationError",
     "evalue": "expected an indented block after function definition on line 99 (mesh_graph_mlp.py, line 100)",
     "output_type": "error",
     "traceback": [
      "Traceback \u001b[0;36m(most recent call last)\u001b[0m:\n",
      "\u001b[0m  File \u001b[1;32m/usr/local/lib/python3.10/dist-packages/IPython/core/interactiveshell.py:3577\u001b[0m in \u001b[1;35mrun_code\u001b[0m\n    exec(code_obj, self.user_global_ns, self.user_ns)\u001b[0m\n",
      "\u001b[0m  Cell \u001b[1;32mIn[44], line 1\u001b[0m\n    from modulus.models_new.graphcast import GraphCast\u001b[0m\n",
      "\u001b[0m  File \u001b[1;32m/iopsstor/scratch/cscs/stefschu/DSM500/github/modulus-a5275d8/modulus/models_new/graphcast/__init__.py:5\u001b[0m\n    from .graph_cast_net import GraphCastNet\u001b[0m\n",
      "\u001b[0m  File \u001b[1;32m/iopsstor/scratch/cscs/stefschu/DSM500/github/modulus-a5275d8/modulus/models_new/graphcast/graph_cast_net.py:15\u001b[0m\n    from modulus.models_new.gnn_layers.embedder import (\u001b[0m\n",
      "\u001b[0;36m  File \u001b[0;32m/iopsstor/scratch/cscs/stefschu/DSM500/github/modulus-a5275d8/modulus/models_new/gnn_layers/embedder.py:8\u001b[0;36m\n\u001b[0;31m    from .mesh_graph_mlp import MeshGraphMLP\u001b[0;36m\n",
      "\u001b[0;36m  File \u001b[0;32m/iopsstor/scratch/cscs/stefschu/DSM500/github/modulus-a5275d8/modulus/models_new/gnn_layers/mesh_graph_mlp.py:100\u001b[0;36m\u001b[0m\n\u001b[0;31m    \u001b[0m\n\u001b[0m    ^\u001b[0m\n\u001b[0;31mIndentationError\u001b[0m\u001b[0;31m:\u001b[0m expected an indented block after function definition on line 99\n"
     ]
    }
   ],
   "source": [
    "from modulus.models_new.graphcast import GraphCast\n",
    "\n",
    "model = GraphCast(\n",
    "    sample_dimensions=sample_image.shape,\n",
    "    grid_input_dimension=31,\n",
    "    grid_output_dimension=21\n",
    ")\n",
    "\n",
    "model(sample_image)"
   ]
  }
 ],
 "metadata": {
  "kernelspec": {
   "display_name": "venv_arm64",
   "language": "python",
   "name": "venv_arm64"
  },
  "language_info": {
   "codemirror_mode": {
    "name": "ipython",
    "version": 3
   },
   "file_extension": ".py",
   "mimetype": "text/x-python",
   "name": "python",
   "nbconvert_exporter": "python",
   "pygments_lexer": "ipython3",
   "version": "3.10.12"
  }
 },
 "nbformat": 4,
 "nbformat_minor": 4
}
