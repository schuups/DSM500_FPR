{
 "cells": [
  {
   "cell_type": "markdown",
   "metadata": {},
   "source": [
    "# Graph study"
   ]
  },
  {
   "cell_type": "code",
   "execution_count": 1,
   "metadata": {},
   "outputs": [],
   "source": [
    "%load_ext autoreload\n",
    "%autoreload 2"
   ]
  },
  {
   "cell_type": "code",
   "execution_count": 2,
   "metadata": {},
   "outputs": [
    {
     "name": "stdout",
     "output_type": "stream",
     "text": [
      "__common.py loaded\n"
     ]
    },
    {
     "name": "stderr",
     "output_type": "stream",
     "text": [
      "/iopsstor/scratch/cscs/stefschu/DSM500/github/modulus-a5275d8/modulus/distributed/manager.py:346: UserWarning: Could not initialize using ENV, SLURM or OPENMPI methods. Assuming this is a single process job\n",
      "  warn(\n"
     ]
    }
   ],
   "source": [
    "%run _model/__common.py"
   ]
  },
  {
   "cell_type": "code",
   "execution_count": 71,
   "metadata": {},
   "outputs": [
    {
     "name": "stderr",
     "output_type": "stream",
     "text": [
      "/iopsstor/scratch/cscs/stefschu/DSM500/github/modulus-a5275d8/modulus/distributed/manager.py:329: UserWarning: Distributed manager is already intialized\n",
      "  warn(\"Distributed manager is already intialized\")\n"
     ]
    },
    {
     "name": "stdout",
     "output_type": "stream",
     "text": [
      "[CACHE] Checking if 'meshes' is cached.\n",
      "[CACHE] -> HIT! '/iopsstor/scratch/cscs/stefschu/DSM500/cache/icosahedron_meshes.pickled' exists.\n",
      "[CACHE] Loading cache for 'meshes'.\n",
      "[CACHE] -> Checking guard 'MeshesCacheGuard'.\n"
     ]
    }
   ],
   "source": [
    "from pathlib import Path\n",
    "from modulus.distributed import DistributedManager\n",
    "from modulus.utils_new.caching import Cache\n",
    "import sys\n",
    "sys.path.append('/iopsstor/scratch/cscs/stefschu/DSM500/github/modulus-a5275d8/examples/weather/graphcast')\n",
    "\n",
    "from trainer import GraphCastTrainer\n",
    "\n",
    "import hydra\n",
    "with hydra.initialize(config_path=\".\", version_base=\"1.3\"):\n",
    "    cfg = hydra.compose(config_name=\"config_new\")\n",
    "from hydra.utils import to_absolute_path\n",
    "\n",
    "from modulus.launch.logging import (\n",
    "    PythonLogger,\n",
    "    initialize_wandb,\n",
    "    RankZeroLoggingWrapper,\n",
    ")\n",
    "\n",
    "DistributedManager.initialize()\n",
    "dist = DistributedManager()\n",
    "\n",
    "logger = PythonLogger(\"main\")\n",
    "logger.info(f\"Rank: {dist.rank}, Device: {dist.device}\")\n",
    "zlogger = RankZeroLoggingWrapper(logger, dist)\n",
    "zlogger.file_logging()\n",
    "\n",
    "# initialize trainer\n",
    "trainer = GraphCastTrainer(cfg, dist, zlogger)"
   ]
  },
  {
   "cell_type": "code",
   "execution_count": 80,
   "metadata": {},
   "outputs": [
    {
     "name": "stdout",
     "output_type": "stream",
     "text": [
      "/iopsstor/scratch/cscs/stefschu/DSM500/github/analysis/checkpoints/pippo.iter000031.pt\n",
      "/iopsstor/scratch/cscs/stefschu/DSM500/github/analysis/checkpoints/pippo.iter000030.pt\n",
      "/iopsstor/scratch/cscs/stefschu/DSM500/github/analysis/checkpoints/pippo.iter000030.pt\n",
      "/iopsstor/scratch/cscs/stefschu/DSM500/github/analysis/checkpoints/pippo.iter000030.pt\n",
      "/iopsstor/scratch/cscs/stefschu/DSM500/github/analysis/checkpoints/pippo.iter000031.pt\n"
     ]
    }
   ],
   "source": [
    "args = {\n",
    "    \"folder\": Path(to_absolute_path(cfg.checkpoint_folder)),\n",
    "    \"name\": \"pippo\",\n",
    "    \"type\": \"pt\"\n",
    "}\n",
    "\n",
    "\n",
    "print(trainer._get_checkpoint_filename(saving=True, **args))\n",
    "print(trainer._get_checkpoint_filename(saving=False, **args))\n",
    "print(trainer._get_checkpoint_filename(saving=True, iter=30, **args))\n",
    "print(trainer._get_checkpoint_filename(saving=False, iter=30, **args))\n",
    "print(trainer._get_checkpoint_filename(saving=False, iter=31, **args))"
   ]
  }
 ],
 "metadata": {
  "kernelspec": {
   "display_name": "venv_arm64",
   "language": "python",
   "name": "venv_arm64"
  }
 },
 "nbformat": 4,
 "nbformat_minor": 4
}
