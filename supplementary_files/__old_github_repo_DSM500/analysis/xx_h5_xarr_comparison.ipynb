{
 "cells": [
  {
   "cell_type": "markdown",
   "metadata": {},
   "source": [
    "# Speed comparison between HDF5 (NERSC curated dataset) and Xarr (Weatherbench data)"
   ]
  },
  {
   "cell_type": "code",
   "execution_count": 9,
   "metadata": {},
   "outputs": [
    {
     "name": "stdout",
     "output_type": "stream",
     "text": [
      "The autoreload extension is already loaded. To reload it, use:\n",
      "  %reload_ext autoreload\n"
     ]
    },
    {
     "name": "stderr",
     "output_type": "stream",
     "text": [
      "/iopsstor/scratch/cscs/stefschu/DSM500/github/modulus-a5275d8/modulus/distributed/manager.py:329: UserWarning: Distributed manager is already intialized\n",
      "  warn(\"Distributed manager is already intialized\")\n"
     ]
    }
   ],
   "source": [
    "%run __common.py\n",
    "%load_ext autoreload\n",
    "%autoreload 2"
   ]
  },
  {
   "cell_type": "markdown",
   "metadata": {},
   "source": [
    "```sh\n",
    "cp /iopsstor/scratch/cscs/stefschu/DSM500/data/FCN_ERA5_data_v0/train/1979.h5 /capstor/scratch/cscs/stefschu/\n",
    "```"
   ]
  },
  {
   "cell_type": "code",
   "execution_count": 15,
   "metadata": {},
   "outputs": [],
   "source": [
    "h5_path = \"/capstor/scratch/cscs/stefschu/1979.h5\"\n",
    "xr_path = \"/capstor/store/cscs/ERA5/weatherbench2_original/\""
   ]
  },
  {
   "cell_type": "markdown",
   "metadata": {},
   "source": [
    "## File opening"
   ]
  },
  {
   "cell_type": "code",
   "execution_count": 24,
   "metadata": {},
   "outputs": [
    {
     "name": "stdout",
     "output_type": "stream",
     "text": [
      "431 μs ± 7.03 μs per loop (mean ± std. dev. of 7 runs, 1,000 loops each)\n"
     ]
    }
   ],
   "source": [
    "%%timeit\n",
    "\n",
    "with h5py.File(h5_path, \"r\") as f:\n",
    "    h5_data = f[\"fields\"]"
   ]
  },
  {
   "cell_type": "code",
   "execution_count": 19,
   "metadata": {},
   "outputs": [
    {
     "name": "stdout",
     "output_type": "stream",
     "text": [
      "1.79 s ± 3.02 ms per loop (mean ± std. dev. of 7 runs, 1 loop each)\n"
     ]
    }
   ],
   "source": [
    "%%timeit\n",
    "\n",
    "ds = xr.open_zarr(xr_path)"
   ]
  },
  {
   "cell_type": "markdown",
   "metadata": {},
   "source": [
    "## Data reading"
   ]
  },
  {
   "cell_type": "code",
   "execution_count": 49,
   "metadata": {},
   "outputs": [
    {
     "name": "stdout",
     "output_type": "stream",
     "text": [
      "2.9 s ± 23.5 ms per loop (mean ± std. dev. of 7 runs, 1 loop each)\n"
     ]
    }
   ],
   "source": [
    "%%timeit\n",
    "\n",
    "ds = xr.open_zarr(xr_path)\n",
    "\n",
    "variables = [\"2m_temperature\", \"surface_pressure\", \"total_precipitation\"]\n",
    "\n",
    "time_index = 0\n",
    "\n",
    "data = ds[variables].isel(time=slice(time_index, time_index + 8))\n",
    "data = data.to_array().values\n",
    "#print(type(data), data.__class__, data.shape, data.dtype, data.nbytes)"
   ]
  },
  {
   "cell_type": "code",
   "execution_count": 50,
   "metadata": {},
   "outputs": [
    {
     "name": "stdout",
     "output_type": "stream",
     "text": [
      "20.3 ms ± 1.34 ms per loop (mean ± std. dev. of 7 runs, 10 loops each)\n"
     ]
    }
   ],
   "source": [
    "%%timeit\n",
    "\n",
    "with h5py.File(h5_path, \"r\") as f:\n",
    "    h5_data = f[\"fields\"]\n",
    "    data = h5_data[time_index:time_index + 8, [3,5,8]]\n",
    "# print(type(data), data.__class__, data.shape, data.dtype, data.nbytes)\n",
    "\n",
    "    "
   ]
  },
  {
   "cell_type": "markdown",
   "metadata": {},
   "source": [
    "## Data reading without file opening"
   ]
  },
  {
   "cell_type": "code",
   "execution_count": 51,
   "metadata": {},
   "outputs": [],
   "source": [
    "ds = xr.open_zarr(xr_path)\n",
    "\n",
    "variables = [\"2m_temperature\", \"surface_pressure\", \"total_precipitation\"]\n",
    "\n",
    "time_index = 0"
   ]
  },
  {
   "cell_type": "code",
   "execution_count": 58,
   "metadata": {},
   "outputs": [
    {
     "name": "stdout",
     "output_type": "stream",
     "text": [
      "1.08 s ± 17.7 ms per loop (mean ± std. dev. of 7 runs, 1 loop each)\n"
     ]
    }
   ],
   "source": [
    "%%timeit\n",
    "\n",
    "data = ds[variables].isel(time=slice(time_index, time_index + 8))\n",
    "data = data.to_array().values"
   ]
  },
  {
   "cell_type": "code",
   "execution_count": 55,
   "metadata": {},
   "outputs": [],
   "source": [
    "f = h5py.File(h5_path, \"r\")\n",
    "h5_data = f[\"fields\"]"
   ]
  },
  {
   "cell_type": "code",
   "execution_count": 57,
   "metadata": {},
   "outputs": [
    {
     "name": "stdout",
     "output_type": "stream",
     "text": [
      "19.1 ms ± 845 μs per loop (mean ± std. dev. of 7 runs, 10 loops each)\n"
     ]
    }
   ],
   "source": [
    "%%timeit \n",
    "\n",
    "h5_data[time_index:time_index + 8, [3,5,8]]"
   ]
  }
 ],
 "metadata": {
  "kernelspec": {
   "display_name": "venv_arm64",
   "language": "python",
   "name": "venv_arm64"
  },
  "language_info": {
   "codemirror_mode": {
    "name": "ipython",
    "version": 3
   },
   "file_extension": ".py",
   "mimetype": "text/x-python",
   "name": "python",
   "nbconvert_exporter": "python",
   "pygments_lexer": "ipython3",
   "version": "3.10.12"
  }
 },
 "nbformat": 4,
 "nbformat_minor": 2
}
